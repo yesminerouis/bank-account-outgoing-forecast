{
 "cells": [
  {
   "cell_type": "markdown",
   "id": "65f997ac",
   "metadata": {},
   "source": [
    "# Import Packages"
   ]
  },
  {
   "cell_type": "code",
   "execution_count": 2,
   "id": "f00bbf81",
   "metadata": {},
   "outputs": [],
   "source": [
    "import os\n",
    "import numpy as np\n",
    "import pandas as pd\n",
    "import matplotlib.pyplot as plt\n",
    "import lightgbm as lgb\n",
    "import pickle"
   ]
  },
  {
   "cell_type": "markdown",
   "id": "d1fb1371",
   "metadata": {},
   "source": [
    "# Get the Data"
   ]
  },
  {
   "cell_type": "markdown",
   "id": "6bd20167",
   "metadata": {},
   "source": [
    "First, we start by collecting the accounts and transactions data from the data folder. For that, we define a generic function that allows to load the two csv files into dataframe format. "
   ]
  },
  {
   "cell_type": "code",
   "execution_count": 3,
   "id": "4104cfee",
   "metadata": {},
   "outputs": [],
   "source": [
    "DATA_PATH = os.path.join(\"\", \"data\")"
   ]
  },
  {
   "cell_type": "code",
   "execution_count": 4,
   "id": "4035eb9e",
   "metadata": {},
   "outputs": [],
   "source": [
    "def load_data(data_path=DATA_PATH, csv_name=None):\n",
    "    \"\"\" Load CSV data into a pandas DataFrame.\"\"\"\n",
    "    csv_path = os.path.join(data_path, csv_name)\n",
    "    df = pd.read_csv(csv_path)\n",
    "    return df"
   ]
  },
  {
   "cell_type": "code",
   "execution_count": 5,
   "id": "29179107",
   "metadata": {},
   "outputs": [
    {
     "data": {
      "text/html": [
       "<div>\n",
       "<style scoped>\n",
       "    .dataframe tbody tr th:only-of-type {\n",
       "        vertical-align: middle;\n",
       "    }\n",
       "\n",
       "    .dataframe tbody tr th {\n",
       "        vertical-align: top;\n",
       "    }\n",
       "\n",
       "    .dataframe thead th {\n",
       "        text-align: right;\n",
       "    }\n",
       "</style>\n",
       "<table border=\"1\" class=\"dataframe\">\n",
       "  <thead>\n",
       "    <tr style=\"text-align: right;\">\n",
       "      <th></th>\n",
       "      <th>id</th>\n",
       "      <th>balance</th>\n",
       "      <th>update_date</th>\n",
       "    </tr>\n",
       "  </thead>\n",
       "  <tbody>\n",
       "    <tr>\n",
       "      <th>0</th>\n",
       "      <td>0</td>\n",
       "      <td>13.63</td>\n",
       "      <td>2021-07-02</td>\n",
       "    </tr>\n",
       "    <tr>\n",
       "      <th>1</th>\n",
       "      <td>1</td>\n",
       "      <td>12.91</td>\n",
       "      <td>2021-07-02</td>\n",
       "    </tr>\n",
       "    <tr>\n",
       "      <th>2</th>\n",
       "      <td>2</td>\n",
       "      <td>19.84</td>\n",
       "      <td>2021-07-02</td>\n",
       "    </tr>\n",
       "    <tr>\n",
       "      <th>3</th>\n",
       "      <td>3</td>\n",
       "      <td>130.00</td>\n",
       "      <td>2021-07-02</td>\n",
       "    </tr>\n",
       "    <tr>\n",
       "      <th>4</th>\n",
       "      <td>4</td>\n",
       "      <td>2806.75</td>\n",
       "      <td>2021-07-02</td>\n",
       "    </tr>\n",
       "  </tbody>\n",
       "</table>\n",
       "</div>"
      ],
      "text/plain": [
       "   id  balance update_date\n",
       "0   0    13.63  2021-07-02\n",
       "1   1    12.91  2021-07-02\n",
       "2   2    19.84  2021-07-02\n",
       "3   3   130.00  2021-07-02\n",
       "4   4  2806.75  2021-07-02"
      ]
     },
     "execution_count": 5,
     "metadata": {},
     "output_type": "execute_result"
    }
   ],
   "source": [
    "accounts = load_data(DATA_PATH, \"accounts.csv\")\n",
    "accounts.head()"
   ]
  },
  {
   "cell_type": "code",
   "execution_count": 6,
   "id": "cab58a16",
   "metadata": {},
   "outputs": [
    {
     "data": {
      "text/html": [
       "<div>\n",
       "<style scoped>\n",
       "    .dataframe tbody tr th:only-of-type {\n",
       "        vertical-align: middle;\n",
       "    }\n",
       "\n",
       "    .dataframe tbody tr th {\n",
       "        vertical-align: top;\n",
       "    }\n",
       "\n",
       "    .dataframe thead th {\n",
       "        text-align: right;\n",
       "    }\n",
       "</style>\n",
       "<table border=\"1\" class=\"dataframe\">\n",
       "  <thead>\n",
       "    <tr style=\"text-align: right;\">\n",
       "      <th></th>\n",
       "      <th>account_id</th>\n",
       "      <th>date</th>\n",
       "      <th>amount</th>\n",
       "    </tr>\n",
       "  </thead>\n",
       "  <tbody>\n",
       "    <tr>\n",
       "      <th>0</th>\n",
       "      <td>0</td>\n",
       "      <td>2020-10-16</td>\n",
       "      <td>200.0</td>\n",
       "    </tr>\n",
       "    <tr>\n",
       "      <th>1</th>\n",
       "      <td>0</td>\n",
       "      <td>2020-10-16</td>\n",
       "      <td>-192.0</td>\n",
       "    </tr>\n",
       "    <tr>\n",
       "      <th>2</th>\n",
       "      <td>0</td>\n",
       "      <td>2020-10-16</td>\n",
       "      <td>200.0</td>\n",
       "    </tr>\n",
       "    <tr>\n",
       "      <th>3</th>\n",
       "      <td>0</td>\n",
       "      <td>2020-10-16</td>\n",
       "      <td>-24.0</td>\n",
       "    </tr>\n",
       "    <tr>\n",
       "      <th>4</th>\n",
       "      <td>0</td>\n",
       "      <td>2020-10-16</td>\n",
       "      <td>-50.0</td>\n",
       "    </tr>\n",
       "  </tbody>\n",
       "</table>\n",
       "</div>"
      ],
      "text/plain": [
       "   account_id        date  amount\n",
       "0           0  2020-10-16   200.0\n",
       "1           0  2020-10-16  -192.0\n",
       "2           0  2020-10-16   200.0\n",
       "3           0  2020-10-16   -24.0\n",
       "4           0  2020-10-16   -50.0"
      ]
     },
     "execution_count": 6,
     "metadata": {},
     "output_type": "execute_result"
    }
   ],
   "source": [
    "transactions = load_data(DATA_PATH, \"transactions.csv\")\n",
    "transactions.head()"
   ]
  },
  {
   "cell_type": "markdown",
   "id": "3855bd0d",
   "metadata": {},
   "source": [
    "Let's now merge the two dataframes on the id of the account so we can have compete data. "
   ]
  },
  {
   "cell_type": "code",
   "execution_count": 7,
   "id": "16393763",
   "metadata": {},
   "outputs": [
    {
     "data": {
      "text/html": [
       "<div>\n",
       "<style scoped>\n",
       "    .dataframe tbody tr th:only-of-type {\n",
       "        vertical-align: middle;\n",
       "    }\n",
       "\n",
       "    .dataframe tbody tr th {\n",
       "        vertical-align: top;\n",
       "    }\n",
       "\n",
       "    .dataframe thead th {\n",
       "        text-align: right;\n",
       "    }\n",
       "</style>\n",
       "<table border=\"1\" class=\"dataframe\">\n",
       "  <thead>\n",
       "    <tr style=\"text-align: right;\">\n",
       "      <th></th>\n",
       "      <th>id</th>\n",
       "      <th>balance</th>\n",
       "      <th>update_date</th>\n",
       "      <th>account_id</th>\n",
       "      <th>date</th>\n",
       "      <th>amount</th>\n",
       "    </tr>\n",
       "  </thead>\n",
       "  <tbody>\n",
       "    <tr>\n",
       "      <th>0</th>\n",
       "      <td>0</td>\n",
       "      <td>13.63</td>\n",
       "      <td>2021-07-02</td>\n",
       "      <td>0</td>\n",
       "      <td>2020-10-16</td>\n",
       "      <td>200.0</td>\n",
       "    </tr>\n",
       "    <tr>\n",
       "      <th>1</th>\n",
       "      <td>0</td>\n",
       "      <td>13.63</td>\n",
       "      <td>2021-07-02</td>\n",
       "      <td>0</td>\n",
       "      <td>2020-10-16</td>\n",
       "      <td>-192.0</td>\n",
       "    </tr>\n",
       "    <tr>\n",
       "      <th>2</th>\n",
       "      <td>0</td>\n",
       "      <td>13.63</td>\n",
       "      <td>2021-07-02</td>\n",
       "      <td>0</td>\n",
       "      <td>2020-10-16</td>\n",
       "      <td>200.0</td>\n",
       "    </tr>\n",
       "    <tr>\n",
       "      <th>3</th>\n",
       "      <td>0</td>\n",
       "      <td>13.63</td>\n",
       "      <td>2021-07-02</td>\n",
       "      <td>0</td>\n",
       "      <td>2020-10-16</td>\n",
       "      <td>-24.0</td>\n",
       "    </tr>\n",
       "    <tr>\n",
       "      <th>4</th>\n",
       "      <td>0</td>\n",
       "      <td>13.63</td>\n",
       "      <td>2021-07-02</td>\n",
       "      <td>0</td>\n",
       "      <td>2020-10-16</td>\n",
       "      <td>-50.0</td>\n",
       "    </tr>\n",
       "  </tbody>\n",
       "</table>\n",
       "</div>"
      ],
      "text/plain": [
       "   id  balance update_date  account_id        date  amount\n",
       "0   0    13.63  2021-07-02           0  2020-10-16   200.0\n",
       "1   0    13.63  2021-07-02           0  2020-10-16  -192.0\n",
       "2   0    13.63  2021-07-02           0  2020-10-16   200.0\n",
       "3   0    13.63  2021-07-02           0  2020-10-16   -24.0\n",
       "4   0    13.63  2021-07-02           0  2020-10-16   -50.0"
      ]
     },
     "execution_count": 7,
     "metadata": {},
     "output_type": "execute_result"
    }
   ],
   "source": [
    "# Merge accounts and transactions dataframes\n",
    "df = pd.merge(accounts, transactions, left_on ='id', right_on = 'account_id')\n",
    "df.head()"
   ]
  },
  {
   "cell_type": "markdown",
   "id": "b8972387",
   "metadata": {},
   "source": [
    "# Data Preprocessing"
   ]
  },
  {
   "cell_type": "markdown",
   "id": "5d4b82f7",
   "metadata": {},
   "source": [
    "First, we need to discard accounts having less than 180 days of History. For that, we define a function that takes as input the total history of accounts transactions and returns the list of accounts having more than 180 days of historical data. For each account, we compute the number of days between the update date and the oldest transaction date and store it into a new column. Finally, we keep only accounts having more than 180 days of history. "
   ]
  },
  {
   "cell_type": "code",
   "execution_count": 8,
   "id": "d10c7d54",
   "metadata": {},
   "outputs": [],
   "source": [
    "def get_180_days_accounts(df: pd.DataFrame):\n",
    "    \"\"\" Cheks for accounts having more than 180 days of history and returns a list of them. \"\"\"\n",
    "    # Store the oldest transaction date for each account into a new dataframe\n",
    "    oldest_df = df.sort_values('date', ascending=False).groupby('id').tail(1)\n",
    "    # Convert the dates columns into datetime types\n",
    "    oldest_df['update_date'] = pd.to_datetime(oldest_df['update_date'])\n",
    "    oldest_df['date'] = pd.to_datetime(oldest_df['date'])\n",
    "    # Compute the number of days between the update date of the account and the newest date\n",
    "    oldest_df['nb_days'] = (oldest_df['update_date'] - oldest_df['date']).dt.days\n",
    "    # Keep only relevant accounts (having more than 180 days of history)\n",
    "    accounts = oldest_df[oldest_df['nb_days']>=180].id.tolist()\n",
    "    \n",
    "    return accounts"
   ]
  },
  {
   "cell_type": "code",
   "execution_count": 9,
   "id": "b511fe07",
   "metadata": {},
   "outputs": [],
   "source": [
    "# Get the list of accounts having more than 180 days of history\n",
    "accounts_list = get_180_days_accounts(df)"
   ]
  },
  {
   "cell_type": "markdown",
   "id": "91480dbf",
   "metadata": {},
   "source": [
    "We filter the dataframe on the returned list of accounts."
   ]
  },
  {
   "cell_type": "code",
   "execution_count": 10,
   "id": "aa26729c",
   "metadata": {},
   "outputs": [],
   "source": [
    "df = df[df['id'].isin(accounts_list)]"
   ]
  },
  {
   "cell_type": "markdown",
   "id": "b354153d",
   "metadata": {},
   "source": [
    "We sort the dataframe by account id and transactions date and display the data. "
   ]
  },
  {
   "cell_type": "code",
   "execution_count": 11,
   "id": "04e64f79",
   "metadata": {},
   "outputs": [],
   "source": [
    "df = df.sort_values(['id', 'date'], ascending = (True, True))"
   ]
  },
  {
   "cell_type": "code",
   "execution_count": 12,
   "id": "cd4b9c1d",
   "metadata": {},
   "outputs": [
    {
     "data": {
      "text/html": [
       "<div>\n",
       "<style scoped>\n",
       "    .dataframe tbody tr th:only-of-type {\n",
       "        vertical-align: middle;\n",
       "    }\n",
       "\n",
       "    .dataframe tbody tr th {\n",
       "        vertical-align: top;\n",
       "    }\n",
       "\n",
       "    .dataframe thead th {\n",
       "        text-align: right;\n",
       "    }\n",
       "</style>\n",
       "<table border=\"1\" class=\"dataframe\">\n",
       "  <thead>\n",
       "    <tr style=\"text-align: right;\">\n",
       "      <th></th>\n",
       "      <th>id</th>\n",
       "      <th>balance</th>\n",
       "      <th>update_date</th>\n",
       "      <th>account_id</th>\n",
       "      <th>date</th>\n",
       "      <th>amount</th>\n",
       "    </tr>\n",
       "  </thead>\n",
       "  <tbody>\n",
       "    <tr>\n",
       "      <th>0</th>\n",
       "      <td>0</td>\n",
       "      <td>13.63</td>\n",
       "      <td>2021-07-02</td>\n",
       "      <td>0</td>\n",
       "      <td>2020-10-16</td>\n",
       "      <td>200.0</td>\n",
       "    </tr>\n",
       "    <tr>\n",
       "      <th>1</th>\n",
       "      <td>0</td>\n",
       "      <td>13.63</td>\n",
       "      <td>2021-07-02</td>\n",
       "      <td>0</td>\n",
       "      <td>2020-10-16</td>\n",
       "      <td>-192.0</td>\n",
       "    </tr>\n",
       "    <tr>\n",
       "      <th>2</th>\n",
       "      <td>0</td>\n",
       "      <td>13.63</td>\n",
       "      <td>2021-07-02</td>\n",
       "      <td>0</td>\n",
       "      <td>2020-10-16</td>\n",
       "      <td>200.0</td>\n",
       "    </tr>\n",
       "    <tr>\n",
       "      <th>3</th>\n",
       "      <td>0</td>\n",
       "      <td>13.63</td>\n",
       "      <td>2021-07-02</td>\n",
       "      <td>0</td>\n",
       "      <td>2020-10-16</td>\n",
       "      <td>-24.0</td>\n",
       "    </tr>\n",
       "    <tr>\n",
       "      <th>4</th>\n",
       "      <td>0</td>\n",
       "      <td>13.63</td>\n",
       "      <td>2021-07-02</td>\n",
       "      <td>0</td>\n",
       "      <td>2020-10-16</td>\n",
       "      <td>-50.0</td>\n",
       "    </tr>\n",
       "  </tbody>\n",
       "</table>\n",
       "</div>"
      ],
      "text/plain": [
       "   id  balance update_date  account_id        date  amount\n",
       "0   0    13.63  2021-07-02           0  2020-10-16   200.0\n",
       "1   0    13.63  2021-07-02           0  2020-10-16  -192.0\n",
       "2   0    13.63  2021-07-02           0  2020-10-16   200.0\n",
       "3   0    13.63  2021-07-02           0  2020-10-16   -24.0\n",
       "4   0    13.63  2021-07-02           0  2020-10-16   -50.0"
      ]
     },
     "execution_count": 12,
     "metadata": {},
     "output_type": "execute_result"
    }
   ],
   "source": [
    "df.head()"
   ]
  },
  {
   "cell_type": "markdown",
   "id": "a04fad4f",
   "metadata": {},
   "source": [
    "# Feature Extraction"
   ]
  },
  {
   "cell_type": "markdown",
   "id": "c3c08dd7",
   "metadata": {},
   "source": [
    "In this section, we will build new features that will be provided to our model in order to predict the next month outgoing. "
   ]
  },
  {
   "cell_type": "markdown",
   "id": "01628a1b",
   "metadata": {},
   "source": [
    "The first step is to convert the date into a month and a year format. For that, we add two columns where we store the month and year numbers extracted from the date of the transaction. "
   ]
  },
  {
   "cell_type": "code",
   "execution_count": 13,
   "id": "f3542033",
   "metadata": {},
   "outputs": [],
   "source": [
    "def convert_to_month_year(df: pd.DataFrame):\n",
    "    \"\"\" Converts regular date format (Y-M-d) to month-year format (m-Y).\"\"\"\n",
    "    df['month'] = pd.to_datetime(df['date']).dt.month\n",
    "    df['year'] = pd.to_datetime(df['date']).dt.year\n",
    "    return df"
   ]
  },
  {
   "cell_type": "code",
   "execution_count": 14,
   "id": "f569f45c",
   "metadata": {},
   "outputs": [
    {
     "name": "stdout",
     "output_type": "stream",
     "text": [
      "   id  balance update_date  account_id        date  amount  month  year\n",
      "0   0    13.63  2021-07-02           0  2020-10-16   200.0     10  2020\n",
      "1   0    13.63  2021-07-02           0  2020-10-16  -192.0     10  2020\n",
      "2   0    13.63  2021-07-02           0  2020-10-16   200.0     10  2020\n",
      "3   0    13.63  2021-07-02           0  2020-10-16   -24.0     10  2020\n",
      "4   0    13.63  2021-07-02           0  2020-10-16   -50.0     10  2020\n"
     ]
    }
   ],
   "source": [
    "data = convert_to_month_year(df)\n",
    "print(data.head())"
   ]
  },
  {
   "cell_type": "code",
   "execution_count": 15,
   "id": "fecf35de",
   "metadata": {},
   "outputs": [
    {
     "data": {
      "text/plain": [
       "(466957, 8)"
      ]
     },
     "execution_count": 15,
     "metadata": {},
     "output_type": "execute_result"
    }
   ],
   "source": [
    "data.shape"
   ]
  },
  {
   "cell_type": "markdown",
   "id": "8b2e7fb6",
   "metadata": {},
   "source": [
    "Next, we look for duplicate values and we drop them. "
   ]
  },
  {
   "cell_type": "code",
   "execution_count": 16,
   "id": "cd757ea2",
   "metadata": {},
   "outputs": [],
   "source": [
    "# remove duplicates \n",
    "data=data[data.duplicated()==False]"
   ]
  },
  {
   "cell_type": "code",
   "execution_count": 17,
   "id": "084f38d9",
   "metadata": {},
   "outputs": [
    {
     "data": {
      "text/plain": [
       "(441880, 8)"
      ]
     },
     "execution_count": 17,
     "metadata": {},
     "output_type": "execute_result"
    }
   ],
   "source": [
    "data.shape"
   ]
  },
  {
   "cell_type": "markdown",
   "id": "4ce6b7b1",
   "metadata": {},
   "source": [
    "At the beginning, we thought about aggregating the total amount of transactions by month. After evaluating the performance of the model based on this feature, we noticed that it wasn't good enough (error was too high), we then opted for separating the flows and computing the ingoing and the outgoing amounts. The next function is hence commented. "
   ]
  },
  {
   "cell_type": "code",
   "execution_count": 18,
   "id": "5d36e810",
   "metadata": {},
   "outputs": [
    {
     "data": {
      "text/plain": [
       "\"\\ndef aggregate_monthly(df: pd.DataFrame):\\n    # Sums the transactions amounts in the same month and direction (incoming/outgoing) and sorts chronologically.\\n    df_monthly = df.groupby(['account_id', 'month', 'year'], \\n                                            as_index=False)['amount'].sum()\\n    df_monthly.sort_values(by=['account_id', 'month', 'year'], inplace=True)\\n    return df_monthly\\n\""
      ]
     },
     "execution_count": 18,
     "metadata": {},
     "output_type": "execute_result"
    }
   ],
   "source": [
    "\"\"\"\n",
    "def aggregate_monthly(df: pd.DataFrame):\n",
    "    # Sums the transactions amounts in the same month and direction (incoming/outgoing) and sorts chronologically.\n",
    "    df_monthly = df.groupby(['account_id', 'month', 'year'], \n",
    "                                            as_index=False)['amount'].sum()\n",
    "    df_monthly.sort_values(by=['account_id', 'month', 'year'], inplace=True)\n",
    "    return df_monthly\n",
    "\"\"\""
   ]
  },
  {
   "cell_type": "code",
   "execution_count": 19,
   "id": "760b4e24",
   "metadata": {},
   "outputs": [],
   "source": [
    "#data_monthly = aggregate_monthly(data)\n",
    "#data_monthly = data_monthly.rename(columns={\"amount\": \"average_transactions_amount\"})\n",
    "#print(data_monthly.head())"
   ]
  },
  {
   "cell_type": "markdown",
   "id": "266f742f",
   "metadata": {},
   "source": [
    "This function takes the list of negative transactions and and sums them on monthly basis for each account."
   ]
  },
  {
   "cell_type": "code",
   "execution_count": 20,
   "id": "56c2c214",
   "metadata": {},
   "outputs": [],
   "source": [
    "def get_monthly_outgoing(df: pd.DataFrame):\n",
    "    \"\"\" Sums the outgoing transactions amounts in the same month and sorts chronologically.\"\"\"\n",
    "    ROC = df.loc[df.amount<0]\n",
    "    ROC = ROC.set_index(\"date\")\n",
    "    df_outgoing = ROC.groupby(['account_id', 'month', 'year'], \n",
    "                                            as_index=False)['amount'].sum()\n",
    "    df_outgoing.sort_values(by=['account_id', 'month', 'year'], inplace=True)\n",
    "    df_outgoing = df_outgoing.rename(columns={\"amount\": \"outgoing\"})\n",
    "    return df_outgoing"
   ]
  },
  {
   "cell_type": "code",
   "execution_count": 21,
   "id": "c27eb10c",
   "metadata": {},
   "outputs": [
    {
     "data": {
      "text/html": [
       "<div>\n",
       "<style scoped>\n",
       "    .dataframe tbody tr th:only-of-type {\n",
       "        vertical-align: middle;\n",
       "    }\n",
       "\n",
       "    .dataframe tbody tr th {\n",
       "        vertical-align: top;\n",
       "    }\n",
       "\n",
       "    .dataframe thead th {\n",
       "        text-align: right;\n",
       "    }\n",
       "</style>\n",
       "<table border=\"1\" class=\"dataframe\">\n",
       "  <thead>\n",
       "    <tr style=\"text-align: right;\">\n",
       "      <th></th>\n",
       "      <th>account_id</th>\n",
       "      <th>month</th>\n",
       "      <th>year</th>\n",
       "      <th>outgoing</th>\n",
       "    </tr>\n",
       "  </thead>\n",
       "  <tbody>\n",
       "    <tr>\n",
       "      <th>0</th>\n",
       "      <td>0</td>\n",
       "      <td>1</td>\n",
       "      <td>2021</td>\n",
       "      <td>-1482.46</td>\n",
       "    </tr>\n",
       "    <tr>\n",
       "      <th>1</th>\n",
       "      <td>0</td>\n",
       "      <td>2</td>\n",
       "      <td>2021</td>\n",
       "      <td>-100.00</td>\n",
       "    </tr>\n",
       "    <tr>\n",
       "      <th>2</th>\n",
       "      <td>0</td>\n",
       "      <td>3</td>\n",
       "      <td>2021</td>\n",
       "      <td>-396.70</td>\n",
       "    </tr>\n",
       "    <tr>\n",
       "      <th>3</th>\n",
       "      <td>0</td>\n",
       "      <td>4</td>\n",
       "      <td>2021</td>\n",
       "      <td>-2183.20</td>\n",
       "    </tr>\n",
       "    <tr>\n",
       "      <th>4</th>\n",
       "      <td>0</td>\n",
       "      <td>5</td>\n",
       "      <td>2021</td>\n",
       "      <td>-3322.02</td>\n",
       "    </tr>\n",
       "  </tbody>\n",
       "</table>\n",
       "</div>"
      ],
      "text/plain": [
       "   account_id  month  year  outgoing\n",
       "0           0      1  2021  -1482.46\n",
       "1           0      2  2021   -100.00\n",
       "2           0      3  2021   -396.70\n",
       "3           0      4  2021  -2183.20\n",
       "4           0      5  2021  -3322.02"
      ]
     },
     "execution_count": 21,
     "metadata": {},
     "output_type": "execute_result"
    }
   ],
   "source": [
    "data_monthly = get_monthly_outgoing(data)\n",
    "data_monthly.head()"
   ]
  },
  {
   "cell_type": "markdown",
   "id": "c3857a05",
   "metadata": {},
   "source": [
    "We build a similar function for the ingoing transactions. "
   ]
  },
  {
   "cell_type": "code",
   "execution_count": 22,
   "id": "b9e3a1b1",
   "metadata": {},
   "outputs": [],
   "source": [
    "def get_monthly_ingoing(df: pd.DataFrame):\n",
    "    \"\"\" Sums the ingoing transactions amounts in the same month and sorts chronologically.\"\"\"\n",
    "    ROC = df.loc[df.amount>=0]\n",
    "    ROC = ROC.set_index(\"date\")\n",
    "    df_ingoing = ROC.groupby(['account_id', 'month', 'year'], \n",
    "                                            as_index=False)['amount'].sum()\n",
    "    df_ingoing.sort_values(by=['account_id', 'month', 'year'], inplace=True)\n",
    "    df_ingoing = df_ingoing.rename(columns={\"amount\": \"ingoing\"})\n",
    "    return df_ingoing"
   ]
  },
  {
   "cell_type": "code",
   "execution_count": 23,
   "id": "361f39ca",
   "metadata": {},
   "outputs": [],
   "source": [
    "data_ingoing = get_monthly_ingoing(data)"
   ]
  },
  {
   "cell_type": "markdown",
   "id": "0d2d602f",
   "metadata": {},
   "source": [
    "Let's add the feature ingoing to the data_monthly."
   ]
  },
  {
   "cell_type": "code",
   "execution_count": 24,
   "id": "86c47005",
   "metadata": {},
   "outputs": [
    {
     "data": {
      "text/html": [
       "<div>\n",
       "<style scoped>\n",
       "    .dataframe tbody tr th:only-of-type {\n",
       "        vertical-align: middle;\n",
       "    }\n",
       "\n",
       "    .dataframe tbody tr th {\n",
       "        vertical-align: top;\n",
       "    }\n",
       "\n",
       "    .dataframe thead th {\n",
       "        text-align: right;\n",
       "    }\n",
       "</style>\n",
       "<table border=\"1\" class=\"dataframe\">\n",
       "  <thead>\n",
       "    <tr style=\"text-align: right;\">\n",
       "      <th></th>\n",
       "      <th>account_id</th>\n",
       "      <th>month</th>\n",
       "      <th>year</th>\n",
       "      <th>outgoing</th>\n",
       "      <th>ingoing</th>\n",
       "    </tr>\n",
       "  </thead>\n",
       "  <tbody>\n",
       "    <tr>\n",
       "      <th>0</th>\n",
       "      <td>0</td>\n",
       "      <td>1</td>\n",
       "      <td>2021</td>\n",
       "      <td>-1482.46</td>\n",
       "      <td>2179.0</td>\n",
       "    </tr>\n",
       "    <tr>\n",
       "      <th>1</th>\n",
       "      <td>0</td>\n",
       "      <td>2</td>\n",
       "      <td>2021</td>\n",
       "      <td>-100.00</td>\n",
       "      <td>100.0</td>\n",
       "    </tr>\n",
       "    <tr>\n",
       "      <th>2</th>\n",
       "      <td>0</td>\n",
       "      <td>3</td>\n",
       "      <td>2021</td>\n",
       "      <td>-396.70</td>\n",
       "      <td>1485.0</td>\n",
       "    </tr>\n",
       "    <tr>\n",
       "      <th>3</th>\n",
       "      <td>0</td>\n",
       "      <td>4</td>\n",
       "      <td>2021</td>\n",
       "      <td>-2183.20</td>\n",
       "      <td>2610.5</td>\n",
       "    </tr>\n",
       "    <tr>\n",
       "      <th>4</th>\n",
       "      <td>0</td>\n",
       "      <td>5</td>\n",
       "      <td>2021</td>\n",
       "      <td>-3322.02</td>\n",
       "      <td>4892.8</td>\n",
       "    </tr>\n",
       "  </tbody>\n",
       "</table>\n",
       "</div>"
      ],
      "text/plain": [
       "   account_id  month  year  outgoing  ingoing\n",
       "0           0      1  2021  -1482.46   2179.0\n",
       "1           0      2  2021   -100.00    100.0\n",
       "2           0      3  2021   -396.70   1485.0\n",
       "3           0      4  2021  -2183.20   2610.5\n",
       "4           0      5  2021  -3322.02   4892.8"
      ]
     },
     "execution_count": 24,
     "metadata": {},
     "output_type": "execute_result"
    }
   ],
   "source": [
    "keys = ['account_id', 'month', 'year']\n",
    "data_monthly = pd.merge(data_monthly, data_ingoing, on = keys, how = 'inner')\n",
    "data_monthly.head()"
   ]
  },
  {
   "cell_type": "markdown",
   "id": "6ff3cf1d",
   "metadata": {},
   "source": [
    "We believe that the number of transactions for each account holds a lot of information into predeciting the account's outgoing. For instance, accounts having higher number of monthly transactions over the years generally present the lower risk of having very hight outgoings. Therefore, we compute it and add it as a feature. "
   ]
  },
  {
   "cell_type": "code",
   "execution_count": 25,
   "id": "d26465bc",
   "metadata": {},
   "outputs": [],
   "source": [
    "def compute_average_transactions_per_month(df: pd.DataFrame):\n",
    "    \"\"\" Computes the number of transactions per month for each account. \"\"\"\n",
    "    ROC = df.groupby(['account_id', 'month', 'year'],\n",
    "              as_index=False)['amount'].count()\n",
    "    ROC = ROC.rename(columns={\"amount\": \"average_transactions_per_month\"})\n",
    "    return ROC"
   ]
  },
  {
   "cell_type": "code",
   "execution_count": 26,
   "id": "a3a496fb",
   "metadata": {},
   "outputs": [
    {
     "data": {
      "text/html": [
       "<div>\n",
       "<style scoped>\n",
       "    .dataframe tbody tr th:only-of-type {\n",
       "        vertical-align: middle;\n",
       "    }\n",
       "\n",
       "    .dataframe tbody tr th {\n",
       "        vertical-align: top;\n",
       "    }\n",
       "\n",
       "    .dataframe thead th {\n",
       "        text-align: right;\n",
       "    }\n",
       "</style>\n",
       "<table border=\"1\" class=\"dataframe\">\n",
       "  <thead>\n",
       "    <tr style=\"text-align: right;\">\n",
       "      <th></th>\n",
       "      <th>account_id</th>\n",
       "      <th>month</th>\n",
       "      <th>year</th>\n",
       "      <th>average_transactions_per_month</th>\n",
       "    </tr>\n",
       "  </thead>\n",
       "  <tbody>\n",
       "    <tr>\n",
       "      <th>0</th>\n",
       "      <td>0</td>\n",
       "      <td>1</td>\n",
       "      <td>2021</td>\n",
       "      <td>21</td>\n",
       "    </tr>\n",
       "    <tr>\n",
       "      <th>1</th>\n",
       "      <td>0</td>\n",
       "      <td>2</td>\n",
       "      <td>2021</td>\n",
       "      <td>9</td>\n",
       "    </tr>\n",
       "    <tr>\n",
       "      <th>2</th>\n",
       "      <td>0</td>\n",
       "      <td>3</td>\n",
       "      <td>2021</td>\n",
       "      <td>14</td>\n",
       "    </tr>\n",
       "    <tr>\n",
       "      <th>3</th>\n",
       "      <td>0</td>\n",
       "      <td>4</td>\n",
       "      <td>2021</td>\n",
       "      <td>23</td>\n",
       "    </tr>\n",
       "    <tr>\n",
       "      <th>4</th>\n",
       "      <td>0</td>\n",
       "      <td>5</td>\n",
       "      <td>2021</td>\n",
       "      <td>46</td>\n",
       "    </tr>\n",
       "  </tbody>\n",
       "</table>\n",
       "</div>"
      ],
      "text/plain": [
       "   account_id  month  year  average_transactions_per_month\n",
       "0           0      1  2021                              21\n",
       "1           0      2  2021                               9\n",
       "2           0      3  2021                              14\n",
       "3           0      4  2021                              23\n",
       "4           0      5  2021                              46"
      ]
     },
     "execution_count": 26,
     "metadata": {},
     "output_type": "execute_result"
    }
   ],
   "source": [
    "df_transactions_number = compute_average_transactions_per_month(data)\n",
    "df_transactions_number.head()"
   ]
  },
  {
   "cell_type": "markdown",
   "id": "14e93e4d",
   "metadata": {},
   "source": [
    "We add the feature average_transactions_per_month to the data_monthly."
   ]
  },
  {
   "cell_type": "code",
   "execution_count": 27,
   "id": "7ea2544f",
   "metadata": {},
   "outputs": [
    {
     "data": {
      "text/html": [
       "<div>\n",
       "<style scoped>\n",
       "    .dataframe tbody tr th:only-of-type {\n",
       "        vertical-align: middle;\n",
       "    }\n",
       "\n",
       "    .dataframe tbody tr th {\n",
       "        vertical-align: top;\n",
       "    }\n",
       "\n",
       "    .dataframe thead th {\n",
       "        text-align: right;\n",
       "    }\n",
       "</style>\n",
       "<table border=\"1\" class=\"dataframe\">\n",
       "  <thead>\n",
       "    <tr style=\"text-align: right;\">\n",
       "      <th></th>\n",
       "      <th>account_id</th>\n",
       "      <th>month</th>\n",
       "      <th>year</th>\n",
       "      <th>outgoing</th>\n",
       "      <th>ingoing</th>\n",
       "      <th>average_transactions_per_month</th>\n",
       "    </tr>\n",
       "  </thead>\n",
       "  <tbody>\n",
       "    <tr>\n",
       "      <th>0</th>\n",
       "      <td>0</td>\n",
       "      <td>1</td>\n",
       "      <td>2021</td>\n",
       "      <td>-1482.46</td>\n",
       "      <td>2179.0</td>\n",
       "      <td>21</td>\n",
       "    </tr>\n",
       "    <tr>\n",
       "      <th>1</th>\n",
       "      <td>0</td>\n",
       "      <td>2</td>\n",
       "      <td>2021</td>\n",
       "      <td>-100.00</td>\n",
       "      <td>100.0</td>\n",
       "      <td>9</td>\n",
       "    </tr>\n",
       "    <tr>\n",
       "      <th>2</th>\n",
       "      <td>0</td>\n",
       "      <td>3</td>\n",
       "      <td>2021</td>\n",
       "      <td>-396.70</td>\n",
       "      <td>1485.0</td>\n",
       "      <td>14</td>\n",
       "    </tr>\n",
       "    <tr>\n",
       "      <th>3</th>\n",
       "      <td>0</td>\n",
       "      <td>4</td>\n",
       "      <td>2021</td>\n",
       "      <td>-2183.20</td>\n",
       "      <td>2610.5</td>\n",
       "      <td>23</td>\n",
       "    </tr>\n",
       "    <tr>\n",
       "      <th>4</th>\n",
       "      <td>0</td>\n",
       "      <td>5</td>\n",
       "      <td>2021</td>\n",
       "      <td>-3322.02</td>\n",
       "      <td>4892.8</td>\n",
       "      <td>46</td>\n",
       "    </tr>\n",
       "  </tbody>\n",
       "</table>\n",
       "</div>"
      ],
      "text/plain": [
       "   account_id  month  year  outgoing  ingoing  average_transactions_per_month\n",
       "0           0      1  2021  -1482.46   2179.0                              21\n",
       "1           0      2  2021   -100.00    100.0                               9\n",
       "2           0      3  2021   -396.70   1485.0                              14\n",
       "3           0      4  2021  -2183.20   2610.5                              23\n",
       "4           0      5  2021  -3322.02   4892.8                              46"
      ]
     },
     "execution_count": 27,
     "metadata": {},
     "output_type": "execute_result"
    }
   ],
   "source": [
    "data_monthly = pd.merge(data_monthly, df_transactions_number, on = keys, how = 'inner')\n",
    "data_monthly.head()"
   ]
  },
  {
   "cell_type": "markdown",
   "id": "5c503766",
   "metadata": {},
   "source": [
    "The function below allows to compute the age of each account up the update date: number of months between the update date and the oldest transation date."
   ]
  },
  {
   "cell_type": "code",
   "execution_count": 28,
   "id": "574b71b3",
   "metadata": {},
   "outputs": [],
   "source": [
    "def compute_account_age(df: pd.DataFrame):\n",
    "    \"\"\" Compute the age of the account (Number of months between the update date and the oldest transation date). \"\"\"\n",
    "    oldest_df = df.sort_values('date', ascending=False).groupby('account_id').tail(1)\n",
    "    oldest_df['update_date'] = pd.to_datetime(oldest_df['update_date'])\n",
    "    oldest_df['date'] = pd.to_datetime(oldest_df['date'])\n",
    "    oldest_df['age'] = ((oldest_df.update_date - oldest_df.date)/np.timedelta64(1, 'M')).astype(int)\n",
    "    \n",
    "    return oldest_df[['account_id', 'age']]\n",
    "    "
   ]
  },
  {
   "cell_type": "code",
   "execution_count": 29,
   "id": "8d1f0327",
   "metadata": {},
   "outputs": [
    {
     "data": {
      "text/html": [
       "<div>\n",
       "<style scoped>\n",
       "    .dataframe tbody tr th:only-of-type {\n",
       "        vertical-align: middle;\n",
       "    }\n",
       "\n",
       "    .dataframe tbody tr th {\n",
       "        vertical-align: top;\n",
       "    }\n",
       "\n",
       "    .dataframe thead th {\n",
       "        text-align: right;\n",
       "    }\n",
       "</style>\n",
       "<table border=\"1\" class=\"dataframe\">\n",
       "  <thead>\n",
       "    <tr style=\"text-align: right;\">\n",
       "      <th></th>\n",
       "      <th>account_id</th>\n",
       "      <th>age</th>\n",
       "    </tr>\n",
       "  </thead>\n",
       "  <tbody>\n",
       "    <tr>\n",
       "      <th>114369</th>\n",
       "      <td>310</td>\n",
       "      <td>5</td>\n",
       "    </tr>\n",
       "    <tr>\n",
       "      <th>166487</th>\n",
       "      <td>455</td>\n",
       "      <td>5</td>\n",
       "    </tr>\n",
       "    <tr>\n",
       "      <th>161079</th>\n",
       "      <td>442</td>\n",
       "      <td>6</td>\n",
       "    </tr>\n",
       "    <tr>\n",
       "      <th>370262</th>\n",
       "      <td>950</td>\n",
       "      <td>6</td>\n",
       "    </tr>\n",
       "    <tr>\n",
       "      <th>369453</th>\n",
       "      <td>948</td>\n",
       "      <td>6</td>\n",
       "    </tr>\n",
       "  </tbody>\n",
       "</table>\n",
       "</div>"
      ],
      "text/plain": [
       "        account_id  age\n",
       "114369         310    5\n",
       "166487         455    5\n",
       "161079         442    6\n",
       "370262         950    6\n",
       "369453         948    6"
      ]
     },
     "execution_count": 29,
     "metadata": {},
     "output_type": "execute_result"
    }
   ],
   "source": [
    "data_age = compute_account_age(data)\n",
    "data_age.head()"
   ]
  },
  {
   "cell_type": "markdown",
   "id": "237c5c62",
   "metadata": {},
   "source": [
    "We add the feature age to the data_monthly."
   ]
  },
  {
   "cell_type": "code",
   "execution_count": 30,
   "id": "85f9902d",
   "metadata": {},
   "outputs": [
    {
     "data": {
      "text/html": [
       "<div>\n",
       "<style scoped>\n",
       "    .dataframe tbody tr th:only-of-type {\n",
       "        vertical-align: middle;\n",
       "    }\n",
       "\n",
       "    .dataframe tbody tr th {\n",
       "        vertical-align: top;\n",
       "    }\n",
       "\n",
       "    .dataframe thead th {\n",
       "        text-align: right;\n",
       "    }\n",
       "</style>\n",
       "<table border=\"1\" class=\"dataframe\">\n",
       "  <thead>\n",
       "    <tr style=\"text-align: right;\">\n",
       "      <th></th>\n",
       "      <th>account_id</th>\n",
       "      <th>month</th>\n",
       "      <th>year</th>\n",
       "      <th>outgoing</th>\n",
       "      <th>ingoing</th>\n",
       "      <th>average_transactions_per_month</th>\n",
       "      <th>age</th>\n",
       "    </tr>\n",
       "  </thead>\n",
       "  <tbody>\n",
       "    <tr>\n",
       "      <th>0</th>\n",
       "      <td>0</td>\n",
       "      <td>1</td>\n",
       "      <td>2021</td>\n",
       "      <td>-1482.46</td>\n",
       "      <td>2179.0</td>\n",
       "      <td>21</td>\n",
       "      <td>8</td>\n",
       "    </tr>\n",
       "    <tr>\n",
       "      <th>1</th>\n",
       "      <td>0</td>\n",
       "      <td>2</td>\n",
       "      <td>2021</td>\n",
       "      <td>-100.00</td>\n",
       "      <td>100.0</td>\n",
       "      <td>9</td>\n",
       "      <td>8</td>\n",
       "    </tr>\n",
       "    <tr>\n",
       "      <th>2</th>\n",
       "      <td>0</td>\n",
       "      <td>3</td>\n",
       "      <td>2021</td>\n",
       "      <td>-396.70</td>\n",
       "      <td>1485.0</td>\n",
       "      <td>14</td>\n",
       "      <td>8</td>\n",
       "    </tr>\n",
       "    <tr>\n",
       "      <th>3</th>\n",
       "      <td>0</td>\n",
       "      <td>4</td>\n",
       "      <td>2021</td>\n",
       "      <td>-2183.20</td>\n",
       "      <td>2610.5</td>\n",
       "      <td>23</td>\n",
       "      <td>8</td>\n",
       "    </tr>\n",
       "    <tr>\n",
       "      <th>4</th>\n",
       "      <td>0</td>\n",
       "      <td>5</td>\n",
       "      <td>2021</td>\n",
       "      <td>-3322.02</td>\n",
       "      <td>4892.8</td>\n",
       "      <td>46</td>\n",
       "      <td>8</td>\n",
       "    </tr>\n",
       "  </tbody>\n",
       "</table>\n",
       "</div>"
      ],
      "text/plain": [
       "   account_id  month  year  outgoing  ingoing  average_transactions_per_month  \\\n",
       "0           0      1  2021  -1482.46   2179.0                              21   \n",
       "1           0      2  2021   -100.00    100.0                               9   \n",
       "2           0      3  2021   -396.70   1485.0                              14   \n",
       "3           0      4  2021  -2183.20   2610.5                              23   \n",
       "4           0      5  2021  -3322.02   4892.8                              46   \n",
       "\n",
       "   age  \n",
       "0    8  \n",
       "1    8  \n",
       "2    8  \n",
       "3    8  \n",
       "4    8  "
      ]
     },
     "execution_count": 30,
     "metadata": {},
     "output_type": "execute_result"
    }
   ],
   "source": [
    "data_monthly = pd.merge(data_monthly, data_age, on ='account_id',how = 'inner')\n",
    "data_monthly.head()"
   ]
  },
  {
   "cell_type": "markdown",
   "id": "bff62b67",
   "metadata": {},
   "source": [
    "We think that the initial balance hols an important information about the account.  by combining the transactions and accounts data, we were able to reverse the balance of the account back through time (back to the oldest transaction date for the account). "
   ]
  },
  {
   "cell_type": "code",
   "execution_count": 31,
   "id": "f61fa4bb",
   "metadata": {},
   "outputs": [],
   "source": [
    "# Compute the initial balance for each account\n",
    "def compute_initial_balance(df: pd.DataFrame, last_balances: pd.DataFrame):\n",
    "    \"\"\" Computes the initial balance of each account given the last balance and the historical transactions. \"\"\"\n",
    "    ROC = df.groupby(['account_id'], as_index=False)['amount'].sum()\n",
    "    df_balance = pd.merge(ROC, last_balances, how='inner', left_on='account_id', right_on='id')\n",
    "    df_balance['initial_balance'] = df_balance['balance'] - df_balance['amount']\n",
    "    return df_balance[['account_id', 'initial_balance']]"
   ]
  },
  {
   "cell_type": "code",
   "execution_count": 32,
   "id": "d7bf3d6e",
   "metadata": {},
   "outputs": [
    {
     "data": {
      "text/html": [
       "<div>\n",
       "<style scoped>\n",
       "    .dataframe tbody tr th:only-of-type {\n",
       "        vertical-align: middle;\n",
       "    }\n",
       "\n",
       "    .dataframe tbody tr th {\n",
       "        vertical-align: top;\n",
       "    }\n",
       "\n",
       "    .dataframe thead th {\n",
       "        text-align: right;\n",
       "    }\n",
       "</style>\n",
       "<table border=\"1\" class=\"dataframe\">\n",
       "  <thead>\n",
       "    <tr style=\"text-align: right;\">\n",
       "      <th></th>\n",
       "      <th>account_id</th>\n",
       "      <th>initial_balance</th>\n",
       "    </tr>\n",
       "  </thead>\n",
       "  <tbody>\n",
       "    <tr>\n",
       "      <th>0</th>\n",
       "      <td>0</td>\n",
       "      <td>-3835.58</td>\n",
       "    </tr>\n",
       "    <tr>\n",
       "      <th>1</th>\n",
       "      <td>1</td>\n",
       "      <td>-1759.97</td>\n",
       "    </tr>\n",
       "    <tr>\n",
       "      <th>2</th>\n",
       "      <td>4</td>\n",
       "      <td>-1485.20</td>\n",
       "    </tr>\n",
       "    <tr>\n",
       "      <th>3</th>\n",
       "      <td>7</td>\n",
       "      <td>1925.43</td>\n",
       "    </tr>\n",
       "    <tr>\n",
       "      <th>4</th>\n",
       "      <td>8</td>\n",
       "      <td>1231.75</td>\n",
       "    </tr>\n",
       "  </tbody>\n",
       "</table>\n",
       "</div>"
      ],
      "text/plain": [
       "   account_id  initial_balance\n",
       "0           0         -3835.58\n",
       "1           1         -1759.97\n",
       "2           4         -1485.20\n",
       "3           7          1925.43\n",
       "4           8          1231.75"
      ]
     },
     "execution_count": 32,
     "metadata": {},
     "output_type": "execute_result"
    }
   ],
   "source": [
    "data_balance = compute_initial_balance(data, accounts)\n",
    "data_balance.head()"
   ]
  },
  {
   "cell_type": "markdown",
   "id": "269d47c7",
   "metadata": {},
   "source": [
    "We add the feature initial_balance to the data_monthly."
   ]
  },
  {
   "cell_type": "code",
   "execution_count": 33,
   "id": "21816b7f",
   "metadata": {},
   "outputs": [
    {
     "data": {
      "text/html": [
       "<div>\n",
       "<style scoped>\n",
       "    .dataframe tbody tr th:only-of-type {\n",
       "        vertical-align: middle;\n",
       "    }\n",
       "\n",
       "    .dataframe tbody tr th {\n",
       "        vertical-align: top;\n",
       "    }\n",
       "\n",
       "    .dataframe thead th {\n",
       "        text-align: right;\n",
       "    }\n",
       "</style>\n",
       "<table border=\"1\" class=\"dataframe\">\n",
       "  <thead>\n",
       "    <tr style=\"text-align: right;\">\n",
       "      <th></th>\n",
       "      <th>account_id</th>\n",
       "      <th>month</th>\n",
       "      <th>year</th>\n",
       "      <th>outgoing</th>\n",
       "      <th>ingoing</th>\n",
       "      <th>average_transactions_per_month</th>\n",
       "      <th>age</th>\n",
       "      <th>initial_balance</th>\n",
       "    </tr>\n",
       "  </thead>\n",
       "  <tbody>\n",
       "    <tr>\n",
       "      <th>0</th>\n",
       "      <td>0</td>\n",
       "      <td>1</td>\n",
       "      <td>2021</td>\n",
       "      <td>-1482.46</td>\n",
       "      <td>2179.0</td>\n",
       "      <td>21</td>\n",
       "      <td>8</td>\n",
       "      <td>-3835.58</td>\n",
       "    </tr>\n",
       "    <tr>\n",
       "      <th>1</th>\n",
       "      <td>0</td>\n",
       "      <td>2</td>\n",
       "      <td>2021</td>\n",
       "      <td>-100.00</td>\n",
       "      <td>100.0</td>\n",
       "      <td>9</td>\n",
       "      <td>8</td>\n",
       "      <td>-3835.58</td>\n",
       "    </tr>\n",
       "    <tr>\n",
       "      <th>2</th>\n",
       "      <td>0</td>\n",
       "      <td>3</td>\n",
       "      <td>2021</td>\n",
       "      <td>-396.70</td>\n",
       "      <td>1485.0</td>\n",
       "      <td>14</td>\n",
       "      <td>8</td>\n",
       "      <td>-3835.58</td>\n",
       "    </tr>\n",
       "    <tr>\n",
       "      <th>3</th>\n",
       "      <td>0</td>\n",
       "      <td>4</td>\n",
       "      <td>2021</td>\n",
       "      <td>-2183.20</td>\n",
       "      <td>2610.5</td>\n",
       "      <td>23</td>\n",
       "      <td>8</td>\n",
       "      <td>-3835.58</td>\n",
       "    </tr>\n",
       "    <tr>\n",
       "      <th>4</th>\n",
       "      <td>0</td>\n",
       "      <td>5</td>\n",
       "      <td>2021</td>\n",
       "      <td>-3322.02</td>\n",
       "      <td>4892.8</td>\n",
       "      <td>46</td>\n",
       "      <td>8</td>\n",
       "      <td>-3835.58</td>\n",
       "    </tr>\n",
       "  </tbody>\n",
       "</table>\n",
       "</div>"
      ],
      "text/plain": [
       "   account_id  month  year  outgoing  ingoing  average_transactions_per_month  \\\n",
       "0           0      1  2021  -1482.46   2179.0                              21   \n",
       "1           0      2  2021   -100.00    100.0                               9   \n",
       "2           0      3  2021   -396.70   1485.0                              14   \n",
       "3           0      4  2021  -2183.20   2610.5                              23   \n",
       "4           0      5  2021  -3322.02   4892.8                              46   \n",
       "\n",
       "   age  initial_balance  \n",
       "0    8         -3835.58  \n",
       "1    8         -3835.58  \n",
       "2    8         -3835.58  \n",
       "3    8         -3835.58  \n",
       "4    8         -3835.58  "
      ]
     },
     "execution_count": 33,
     "metadata": {},
     "output_type": "execute_result"
    }
   ],
   "source": [
    "data_monthly = pd.merge(data_monthly, data_balance, on ='account_id',how = 'inner')\n",
    "data_monthly.head()"
   ]
  },
  {
   "cell_type": "markdown",
   "id": "4ffd46f8",
   "metadata": {},
   "source": [
    "Knowing the current monthly incoming and outgoing, we can shift back the data to compute the previous outgoings/incomings over the 6 past months. "
   ]
  },
  {
   "cell_type": "code",
   "execution_count": 34,
   "id": "95fd9602",
   "metadata": {},
   "outputs": [],
   "source": [
    "def Hist(df: pd.DataFrame, n):\n",
    "    \"\"\" Computes the n th previous average amount of transactions for each account. \"\"\"\n",
    "    df['outgoing_'+str(n)] = df.groupby('account_id')['outgoing'].shift(n)\n",
    "    df['ingoing_'+str(n)] = df.groupby('account_id')['ingoing'].shift(n)\n",
    "    return df"
   ]
  },
  {
   "cell_type": "markdown",
   "id": "4d9f532d",
   "metadata": {},
   "source": [
    "We therefore add 12 features ( 6 previous monthly ingoing abd 6 previous 6 previous outgoings). We denote by outgoing_M, incoming_M the total outgoing, incoming respectively on the M th previous month. "
   ]
  },
  {
   "cell_type": "code",
   "execution_count": 35,
   "id": "7ab79102",
   "metadata": {},
   "outputs": [],
   "source": [
    "N = 6\n",
    "for n in range (1,N+1):\n",
    "    Hist(data_monthly, n)"
   ]
  },
  {
   "cell_type": "code",
   "execution_count": 36,
   "id": "7615d0d2",
   "metadata": {},
   "outputs": [
    {
     "data": {
      "text/html": [
       "<div>\n",
       "<style scoped>\n",
       "    .dataframe tbody tr th:only-of-type {\n",
       "        vertical-align: middle;\n",
       "    }\n",
       "\n",
       "    .dataframe tbody tr th {\n",
       "        vertical-align: top;\n",
       "    }\n",
       "\n",
       "    .dataframe thead th {\n",
       "        text-align: right;\n",
       "    }\n",
       "</style>\n",
       "<table border=\"1\" class=\"dataframe\">\n",
       "  <thead>\n",
       "    <tr style=\"text-align: right;\">\n",
       "      <th></th>\n",
       "      <th>account_id</th>\n",
       "      <th>month</th>\n",
       "      <th>year</th>\n",
       "      <th>outgoing</th>\n",
       "      <th>ingoing</th>\n",
       "      <th>average_transactions_per_month</th>\n",
       "      <th>age</th>\n",
       "      <th>initial_balance</th>\n",
       "      <th>outgoing_1</th>\n",
       "      <th>ingoing_1</th>\n",
       "      <th>outgoing_2</th>\n",
       "      <th>ingoing_2</th>\n",
       "      <th>outgoing_3</th>\n",
       "      <th>ingoing_3</th>\n",
       "      <th>outgoing_4</th>\n",
       "      <th>ingoing_4</th>\n",
       "      <th>outgoing_5</th>\n",
       "      <th>ingoing_5</th>\n",
       "      <th>outgoing_6</th>\n",
       "      <th>ingoing_6</th>\n",
       "    </tr>\n",
       "  </thead>\n",
       "  <tbody>\n",
       "    <tr>\n",
       "      <th>0</th>\n",
       "      <td>0</td>\n",
       "      <td>1</td>\n",
       "      <td>2021</td>\n",
       "      <td>-1482.46</td>\n",
       "      <td>2179.0</td>\n",
       "      <td>21</td>\n",
       "      <td>8</td>\n",
       "      <td>-3835.58</td>\n",
       "      <td>NaN</td>\n",
       "      <td>NaN</td>\n",
       "      <td>NaN</td>\n",
       "      <td>NaN</td>\n",
       "      <td>NaN</td>\n",
       "      <td>NaN</td>\n",
       "      <td>NaN</td>\n",
       "      <td>NaN</td>\n",
       "      <td>NaN</td>\n",
       "      <td>NaN</td>\n",
       "      <td>NaN</td>\n",
       "      <td>NaN</td>\n",
       "    </tr>\n",
       "    <tr>\n",
       "      <th>1</th>\n",
       "      <td>0</td>\n",
       "      <td>2</td>\n",
       "      <td>2021</td>\n",
       "      <td>-100.00</td>\n",
       "      <td>100.0</td>\n",
       "      <td>9</td>\n",
       "      <td>8</td>\n",
       "      <td>-3835.58</td>\n",
       "      <td>-1482.46</td>\n",
       "      <td>2179.0</td>\n",
       "      <td>NaN</td>\n",
       "      <td>NaN</td>\n",
       "      <td>NaN</td>\n",
       "      <td>NaN</td>\n",
       "      <td>NaN</td>\n",
       "      <td>NaN</td>\n",
       "      <td>NaN</td>\n",
       "      <td>NaN</td>\n",
       "      <td>NaN</td>\n",
       "      <td>NaN</td>\n",
       "    </tr>\n",
       "    <tr>\n",
       "      <th>2</th>\n",
       "      <td>0</td>\n",
       "      <td>3</td>\n",
       "      <td>2021</td>\n",
       "      <td>-396.70</td>\n",
       "      <td>1485.0</td>\n",
       "      <td>14</td>\n",
       "      <td>8</td>\n",
       "      <td>-3835.58</td>\n",
       "      <td>-100.00</td>\n",
       "      <td>100.0</td>\n",
       "      <td>-1482.46</td>\n",
       "      <td>2179.0</td>\n",
       "      <td>NaN</td>\n",
       "      <td>NaN</td>\n",
       "      <td>NaN</td>\n",
       "      <td>NaN</td>\n",
       "      <td>NaN</td>\n",
       "      <td>NaN</td>\n",
       "      <td>NaN</td>\n",
       "      <td>NaN</td>\n",
       "    </tr>\n",
       "    <tr>\n",
       "      <th>3</th>\n",
       "      <td>0</td>\n",
       "      <td>4</td>\n",
       "      <td>2021</td>\n",
       "      <td>-2183.20</td>\n",
       "      <td>2610.5</td>\n",
       "      <td>23</td>\n",
       "      <td>8</td>\n",
       "      <td>-3835.58</td>\n",
       "      <td>-396.70</td>\n",
       "      <td>1485.0</td>\n",
       "      <td>-100.00</td>\n",
       "      <td>100.0</td>\n",
       "      <td>-1482.46</td>\n",
       "      <td>2179.0</td>\n",
       "      <td>NaN</td>\n",
       "      <td>NaN</td>\n",
       "      <td>NaN</td>\n",
       "      <td>NaN</td>\n",
       "      <td>NaN</td>\n",
       "      <td>NaN</td>\n",
       "    </tr>\n",
       "    <tr>\n",
       "      <th>4</th>\n",
       "      <td>0</td>\n",
       "      <td>5</td>\n",
       "      <td>2021</td>\n",
       "      <td>-3322.02</td>\n",
       "      <td>4892.8</td>\n",
       "      <td>46</td>\n",
       "      <td>8</td>\n",
       "      <td>-3835.58</td>\n",
       "      <td>-2183.20</td>\n",
       "      <td>2610.5</td>\n",
       "      <td>-396.70</td>\n",
       "      <td>1485.0</td>\n",
       "      <td>-100.00</td>\n",
       "      <td>100.0</td>\n",
       "      <td>-1482.46</td>\n",
       "      <td>2179.0</td>\n",
       "      <td>NaN</td>\n",
       "      <td>NaN</td>\n",
       "      <td>NaN</td>\n",
       "      <td>NaN</td>\n",
       "    </tr>\n",
       "  </tbody>\n",
       "</table>\n",
       "</div>"
      ],
      "text/plain": [
       "   account_id  month  year  outgoing  ingoing  average_transactions_per_month  \\\n",
       "0           0      1  2021  -1482.46   2179.0                              21   \n",
       "1           0      2  2021   -100.00    100.0                               9   \n",
       "2           0      3  2021   -396.70   1485.0                              14   \n",
       "3           0      4  2021  -2183.20   2610.5                              23   \n",
       "4           0      5  2021  -3322.02   4892.8                              46   \n",
       "\n",
       "   age  initial_balance  outgoing_1  ingoing_1  outgoing_2  ingoing_2  \\\n",
       "0    8         -3835.58         NaN        NaN         NaN        NaN   \n",
       "1    8         -3835.58    -1482.46     2179.0         NaN        NaN   \n",
       "2    8         -3835.58     -100.00      100.0    -1482.46     2179.0   \n",
       "3    8         -3835.58     -396.70     1485.0     -100.00      100.0   \n",
       "4    8         -3835.58    -2183.20     2610.5     -396.70     1485.0   \n",
       "\n",
       "   outgoing_3  ingoing_3  outgoing_4  ingoing_4  outgoing_5  ingoing_5  \\\n",
       "0         NaN        NaN         NaN        NaN         NaN        NaN   \n",
       "1         NaN        NaN         NaN        NaN         NaN        NaN   \n",
       "2         NaN        NaN         NaN        NaN         NaN        NaN   \n",
       "3    -1482.46     2179.0         NaN        NaN         NaN        NaN   \n",
       "4     -100.00      100.0    -1482.46     2179.0         NaN        NaN   \n",
       "\n",
       "   outgoing_6  ingoing_6  \n",
       "0         NaN        NaN  \n",
       "1         NaN        NaN  \n",
       "2         NaN        NaN  \n",
       "3         NaN        NaN  \n",
       "4         NaN        NaN  "
      ]
     },
     "execution_count": 36,
     "metadata": {},
     "output_type": "execute_result"
    }
   ],
   "source": [
    "data_monthly.head()"
   ]
  },
  {
   "cell_type": "markdown",
   "id": "aa8e68fd",
   "metadata": {},
   "source": [
    "# Take a Quick look at the Data Structure"
   ]
  },
  {
   "cell_type": "code",
   "execution_count": 37,
   "id": "a3945e33",
   "metadata": {},
   "outputs": [
    {
     "name": "stdout",
     "output_type": "stream",
     "text": [
      "<class 'pandas.core.frame.DataFrame'>\n",
      "Int64Index: 11236 entries, 0 to 11235\n",
      "Data columns (total 20 columns):\n",
      " #   Column                          Non-Null Count  Dtype  \n",
      "---  ------                          --------------  -----  \n",
      " 0   account_id                      11236 non-null  int64  \n",
      " 1   month                           11236 non-null  int64  \n",
      " 2   year                            11236 non-null  int64  \n",
      " 3   outgoing                        11236 non-null  float64\n",
      " 4   ingoing                         11236 non-null  float64\n",
      " 5   average_transactions_per_month  11236 non-null  int64  \n",
      " 6   age                             11236 non-null  int32  \n",
      " 7   initial_balance                 11236 non-null  float64\n",
      " 8   outgoing_1                      10384 non-null  float64\n",
      " 9   ingoing_1                       10384 non-null  float64\n",
      " 10  outgoing_2                      9546 non-null   float64\n",
      " 11  ingoing_2                       9546 non-null   float64\n",
      " 12  outgoing_3                      8721 non-null   float64\n",
      " 13  ingoing_3                       8721 non-null   float64\n",
      " 14  outgoing_4                      7920 non-null   float64\n",
      " 15  ingoing_4                       7920 non-null   float64\n",
      " 16  outgoing_5                      7140 non-null   float64\n",
      " 17  ingoing_5                       7140 non-null   float64\n",
      " 18  outgoing_6                      6375 non-null   float64\n",
      " 19  ingoing_6                       6375 non-null   float64\n",
      "dtypes: float64(15), int32(1), int64(4)\n",
      "memory usage: 1.8 MB\n"
     ]
    }
   ],
   "source": [
    "data_monthly.info()"
   ]
  },
  {
   "cell_type": "code",
   "execution_count": 38,
   "id": "734098f8",
   "metadata": {},
   "outputs": [
    {
     "data": {
      "text/html": [
       "<div>\n",
       "<style scoped>\n",
       "    .dataframe tbody tr th:only-of-type {\n",
       "        vertical-align: middle;\n",
       "    }\n",
       "\n",
       "    .dataframe tbody tr th {\n",
       "        vertical-align: top;\n",
       "    }\n",
       "\n",
       "    .dataframe thead th {\n",
       "        text-align: right;\n",
       "    }\n",
       "</style>\n",
       "<table border=\"1\" class=\"dataframe\">\n",
       "  <thead>\n",
       "    <tr style=\"text-align: right;\">\n",
       "      <th></th>\n",
       "      <th>account_id</th>\n",
       "      <th>month</th>\n",
       "      <th>year</th>\n",
       "      <th>outgoing</th>\n",
       "      <th>ingoing</th>\n",
       "      <th>average_transactions_per_month</th>\n",
       "      <th>age</th>\n",
       "      <th>initial_balance</th>\n",
       "      <th>outgoing_1</th>\n",
       "      <th>ingoing_1</th>\n",
       "      <th>outgoing_2</th>\n",
       "      <th>ingoing_2</th>\n",
       "      <th>outgoing_3</th>\n",
       "      <th>ingoing_3</th>\n",
       "      <th>outgoing_4</th>\n",
       "      <th>ingoing_4</th>\n",
       "      <th>outgoing_5</th>\n",
       "      <th>ingoing_5</th>\n",
       "      <th>outgoing_6</th>\n",
       "      <th>ingoing_6</th>\n",
       "    </tr>\n",
       "  </thead>\n",
       "  <tbody>\n",
       "    <tr>\n",
       "      <th>count</th>\n",
       "      <td>11236.000000</td>\n",
       "      <td>11236.000000</td>\n",
       "      <td>11236.000000</td>\n",
       "      <td>11236.000000</td>\n",
       "      <td>11236.000000</td>\n",
       "      <td>11236.000000</td>\n",
       "      <td>11236.000000</td>\n",
       "      <td>11236.000000</td>\n",
       "      <td>10384.000000</td>\n",
       "      <td>10384.000000</td>\n",
       "      <td>9546.000000</td>\n",
       "      <td>9546.000000</td>\n",
       "      <td>8721.000000</td>\n",
       "      <td>8721.000000</td>\n",
       "      <td>7920.000000</td>\n",
       "      <td>7920.000000</td>\n",
       "      <td>7140.000000</td>\n",
       "      <td>7140.000000</td>\n",
       "      <td>6375.000000</td>\n",
       "      <td>6375.000000</td>\n",
       "    </tr>\n",
       "    <tr>\n",
       "      <th>mean</th>\n",
       "      <td>668.203631</td>\n",
       "      <td>6.190993</td>\n",
       "      <td>2020.237451</td>\n",
       "      <td>-5506.632771</td>\n",
       "      <td>5872.192566</td>\n",
       "      <td>38.574404</td>\n",
       "      <td>18.165806</td>\n",
       "      <td>-1020.041703</td>\n",
       "      <td>-5352.331769</td>\n",
       "      <td>5710.374532</td>\n",
       "      <td>-5393.962307</td>\n",
       "      <td>5695.249115</td>\n",
       "      <td>-5367.568719</td>\n",
       "      <td>5686.201269</td>\n",
       "      <td>-5292.965663</td>\n",
       "      <td>5570.686960</td>\n",
       "      <td>-5261.059046</td>\n",
       "      <td>5515.033633</td>\n",
       "      <td>-5228.892667</td>\n",
       "      <td>5514.058712</td>\n",
       "    </tr>\n",
       "    <tr>\n",
       "      <th>std</th>\n",
       "      <td>361.239300</td>\n",
       "      <td>3.464771</td>\n",
       "      <td>0.701355</td>\n",
       "      <td>12459.102800</td>\n",
       "      <td>13117.339305</td>\n",
       "      <td>34.190014</td>\n",
       "      <td>8.177504</td>\n",
       "      <td>15001.275139</td>\n",
       "      <td>11106.061735</td>\n",
       "      <td>11763.766576</td>\n",
       "      <td>11231.488473</td>\n",
       "      <td>11721.594767</td>\n",
       "      <td>11347.640232</td>\n",
       "      <td>11873.387466</td>\n",
       "      <td>10622.323987</td>\n",
       "      <td>10518.612663</td>\n",
       "      <td>10164.738941</td>\n",
       "      <td>10298.603669</td>\n",
       "      <td>9916.182374</td>\n",
       "      <td>10371.015410</td>\n",
       "    </tr>\n",
       "    <tr>\n",
       "      <th>min</th>\n",
       "      <td>0.000000</td>\n",
       "      <td>1.000000</td>\n",
       "      <td>2018.000000</td>\n",
       "      <td>-532301.650000</td>\n",
       "      <td>0.000000</td>\n",
       "      <td>2.000000</td>\n",
       "      <td>5.000000</td>\n",
       "      <td>-99903.050000</td>\n",
       "      <td>-345792.840000</td>\n",
       "      <td>0.000000</td>\n",
       "      <td>-345792.840000</td>\n",
       "      <td>0.000000</td>\n",
       "      <td>-345792.840000</td>\n",
       "      <td>0.000000</td>\n",
       "      <td>-333806.820000</td>\n",
       "      <td>0.000000</td>\n",
       "      <td>-290729.680000</td>\n",
       "      <td>0.000000</td>\n",
       "      <td>-290729.680000</td>\n",
       "      <td>0.000000</td>\n",
       "    </tr>\n",
       "    <tr>\n",
       "      <th>25%</th>\n",
       "      <td>369.000000</td>\n",
       "      <td>3.000000</td>\n",
       "      <td>2020.000000</td>\n",
       "      <td>-6007.117500</td>\n",
       "      <td>1012.870000</td>\n",
       "      <td>12.000000</td>\n",
       "      <td>11.000000</td>\n",
       "      <td>-1161.300000</td>\n",
       "      <td>-5880.470000</td>\n",
       "      <td>1014.750000</td>\n",
       "      <td>-5934.615000</td>\n",
       "      <td>1025.000000</td>\n",
       "      <td>-5870.750000</td>\n",
       "      <td>1041.600000</td>\n",
       "      <td>-5819.690000</td>\n",
       "      <td>1050.000000</td>\n",
       "      <td>-5798.372500</td>\n",
       "      <td>1050.435000</td>\n",
       "      <td>-5780.960000</td>\n",
       "      <td>1072.080000</td>\n",
       "    </tr>\n",
       "    <tr>\n",
       "      <th>50%</th>\n",
       "      <td>693.000000</td>\n",
       "      <td>6.000000</td>\n",
       "      <td>2020.000000</td>\n",
       "      <td>-2612.190000</td>\n",
       "      <td>2639.500000</td>\n",
       "      <td>29.000000</td>\n",
       "      <td>17.000000</td>\n",
       "      <td>-158.565000</td>\n",
       "      <td>-2555.880000</td>\n",
       "      <td>2569.410000</td>\n",
       "      <td>-2588.445000</td>\n",
       "      <td>2596.845000</td>\n",
       "      <td>-2580.780000</td>\n",
       "      <td>2581.120000</td>\n",
       "      <td>-2564.550000</td>\n",
       "      <td>2562.370000</td>\n",
       "      <td>-2554.125000</td>\n",
       "      <td>2546.300000</td>\n",
       "      <td>-2561.000000</td>\n",
       "      <td>2565.000000</td>\n",
       "    </tr>\n",
       "    <tr>\n",
       "      <th>75%</th>\n",
       "      <td>983.000000</td>\n",
       "      <td>9.000000</td>\n",
       "      <td>2021.000000</td>\n",
       "      <td>-998.795000</td>\n",
       "      <td>6268.692500</td>\n",
       "      <td>55.000000</td>\n",
       "      <td>24.000000</td>\n",
       "      <td>266.310000</td>\n",
       "      <td>-1000.000000</td>\n",
       "      <td>6120.000000</td>\n",
       "      <td>-1017.790000</td>\n",
       "      <td>6110.900000</td>\n",
       "      <td>-1018.880000</td>\n",
       "      <td>6088.220000</td>\n",
       "      <td>-1027.650000</td>\n",
       "      <td>6017.745000</td>\n",
       "      <td>-1029.995000</td>\n",
       "      <td>5983.227500</td>\n",
       "      <td>-1049.270000</td>\n",
       "      <td>5992.100000</td>\n",
       "    </tr>\n",
       "    <tr>\n",
       "      <th>max</th>\n",
       "      <td>1253.000000</td>\n",
       "      <td>12.000000</td>\n",
       "      <td>2021.000000</td>\n",
       "      <td>-0.010000</td>\n",
       "      <td>545671.480000</td>\n",
       "      <td>308.000000</td>\n",
       "      <td>41.000000</td>\n",
       "      <td>245309.700000</td>\n",
       "      <td>-0.010000</td>\n",
       "      <td>483133.510000</td>\n",
       "      <td>-0.040000</td>\n",
       "      <td>483133.510000</td>\n",
       "      <td>-0.040000</td>\n",
       "      <td>483133.510000</td>\n",
       "      <td>-0.040000</td>\n",
       "      <td>290882.310000</td>\n",
       "      <td>-0.120000</td>\n",
       "      <td>290882.310000</td>\n",
       "      <td>-0.120000</td>\n",
       "      <td>290882.310000</td>\n",
       "    </tr>\n",
       "  </tbody>\n",
       "</table>\n",
       "</div>"
      ],
      "text/plain": [
       "         account_id         month          year       outgoing        ingoing  \\\n",
       "count  11236.000000  11236.000000  11236.000000   11236.000000   11236.000000   \n",
       "mean     668.203631      6.190993   2020.237451   -5506.632771    5872.192566   \n",
       "std      361.239300      3.464771      0.701355   12459.102800   13117.339305   \n",
       "min        0.000000      1.000000   2018.000000 -532301.650000       0.000000   \n",
       "25%      369.000000      3.000000   2020.000000   -6007.117500    1012.870000   \n",
       "50%      693.000000      6.000000   2020.000000   -2612.190000    2639.500000   \n",
       "75%      983.000000      9.000000   2021.000000    -998.795000    6268.692500   \n",
       "max     1253.000000     12.000000   2021.000000      -0.010000  545671.480000   \n",
       "\n",
       "       average_transactions_per_month           age  initial_balance  \\\n",
       "count                    11236.000000  11236.000000     11236.000000   \n",
       "mean                        38.574404     18.165806     -1020.041703   \n",
       "std                         34.190014      8.177504     15001.275139   \n",
       "min                          2.000000      5.000000    -99903.050000   \n",
       "25%                         12.000000     11.000000     -1161.300000   \n",
       "50%                         29.000000     17.000000      -158.565000   \n",
       "75%                         55.000000     24.000000       266.310000   \n",
       "max                        308.000000     41.000000    245309.700000   \n",
       "\n",
       "          outgoing_1      ingoing_1     outgoing_2      ingoing_2  \\\n",
       "count   10384.000000   10384.000000    9546.000000    9546.000000   \n",
       "mean    -5352.331769    5710.374532   -5393.962307    5695.249115   \n",
       "std     11106.061735   11763.766576   11231.488473   11721.594767   \n",
       "min   -345792.840000       0.000000 -345792.840000       0.000000   \n",
       "25%     -5880.470000    1014.750000   -5934.615000    1025.000000   \n",
       "50%     -2555.880000    2569.410000   -2588.445000    2596.845000   \n",
       "75%     -1000.000000    6120.000000   -1017.790000    6110.900000   \n",
       "max        -0.010000  483133.510000      -0.040000  483133.510000   \n",
       "\n",
       "          outgoing_3      ingoing_3     outgoing_4      ingoing_4  \\\n",
       "count    8721.000000    8721.000000    7920.000000    7920.000000   \n",
       "mean    -5367.568719    5686.201269   -5292.965663    5570.686960   \n",
       "std     11347.640232   11873.387466   10622.323987   10518.612663   \n",
       "min   -345792.840000       0.000000 -333806.820000       0.000000   \n",
       "25%     -5870.750000    1041.600000   -5819.690000    1050.000000   \n",
       "50%     -2580.780000    2581.120000   -2564.550000    2562.370000   \n",
       "75%     -1018.880000    6088.220000   -1027.650000    6017.745000   \n",
       "max        -0.040000  483133.510000      -0.040000  290882.310000   \n",
       "\n",
       "          outgoing_5      ingoing_5     outgoing_6      ingoing_6  \n",
       "count    7140.000000    7140.000000    6375.000000    6375.000000  \n",
       "mean    -5261.059046    5515.033633   -5228.892667    5514.058712  \n",
       "std     10164.738941   10298.603669    9916.182374   10371.015410  \n",
       "min   -290729.680000       0.000000 -290729.680000       0.000000  \n",
       "25%     -5798.372500    1050.435000   -5780.960000    1072.080000  \n",
       "50%     -2554.125000    2546.300000   -2561.000000    2565.000000  \n",
       "75%     -1029.995000    5983.227500   -1049.270000    5992.100000  \n",
       "max        -0.120000  290882.310000      -0.120000  290882.310000  "
      ]
     },
     "execution_count": 38,
     "metadata": {},
     "output_type": "execute_result"
    }
   ],
   "source": [
    "data_monthly.describe()"
   ]
  },
  {
   "cell_type": "markdown",
   "id": "67872888",
   "metadata": {},
   "source": [
    "# Discover and Visualize the Data to Gain Insights"
   ]
  },
  {
   "cell_type": "code",
   "execution_count": 39,
   "id": "957f204a",
   "metadata": {},
   "outputs": [
    {
     "data": {
      "image/png": "[encoded data removed]",
      "text/plain": [
       "<Figure size 1440x1800 with 20 Axes>"
      ]
     },
     "metadata": {
      "needs_background": "light"
     },
     "output_type": "display_data"
    }
   ],
   "source": [
    "%matplotlib inline \n",
    "import matplotlib.pyplot as plt\n",
    "data_monthly.hist(bins=50, figsize=(20,25))\n",
    "plt.show()"
   ]
  },
  {
   "cell_type": "code",
   "execution_count": 40,
   "id": "2997688d",
   "metadata": {},
   "outputs": [
    {
     "data": {
      "text/plain": [
       "<AxesSubplot:xlabel='age', ylabel='outgoing'>"
      ]
     },
     "execution_count": 40,
     "metadata": {},
     "output_type": "execute_result"
    },
    {
     "data": {
      "image/png": "[encoded data removed]",
      "text/plain": [
       "<Figure size 432x288 with 1 Axes>"
      ]
     },
     "metadata": {
      "needs_background": "light"
     },
     "output_type": "display_data"
    }
   ],
   "source": [
    "data_monthly.plot(kind=\"scatter\", x=\"age\", y=\"outgoing\")"
   ]
  },
  {
   "cell_type": "markdown",
   "id": "f8e7481c",
   "metadata": {},
   "source": [
    "For instance, the accounts that have just been created (6 months to 9 months) and accounts that have been created for some time (>30 months) present a lower risk of high outgoings.\n",
    "Their activity is either at its beginning or is mature and stable. \n",
    "Contrarily to the accounts having 1 to 3 years of seniority and still trying to run their business present a higher risk of high outgoings. "
   ]
  },
  {
   "cell_type": "code",
   "execution_count": 41,
   "id": "f859877a",
   "metadata": {},
   "outputs": [
    {
     "data": {
      "text/plain": [
       "<AxesSubplot:xlabel='average_transactions_per_month', ylabel='outgoing'>"
      ]
     },
     "execution_count": 41,
     "metadata": {},
     "output_type": "execute_result"
    },
    {
     "data": {
      "image/png": "[encoded data removed]",
      "text/plain": [
       "<Figure size 432x288 with 1 Axes>"
      ]
     },
     "metadata": {
      "needs_background": "light"
     },
     "output_type": "display_data"
    }
   ],
   "source": [
    "data_monthly.plot(kind=\"scatter\", x=\"average_transactions_per_month\", y=\"outgoing\")"
   ]
  },
  {
   "cell_type": "markdown",
   "id": "f50265b0",
   "metadata": {},
   "source": [
    "# Create a Train Test Set"
   ]
  },
  {
   "cell_type": "code",
   "execution_count": 42,
   "id": "79c305ce",
   "metadata": {},
   "outputs": [
    {
     "data": {
      "text/plain": [
       "(11236, 20)"
      ]
     },
     "execution_count": 42,
     "metadata": {},
     "output_type": "execute_result"
    }
   ],
   "source": [
    "data_monthly.shape"
   ]
  },
  {
   "cell_type": "markdown",
   "id": "bdb1fec5",
   "metadata": {},
   "source": [
    "As we don't have enough data and since we are dealing with Time Series data, I chose to build train and test sets based on the split_month and split year. Meaning, for each account I take the last month for the test set and keep the remaining months(prior to the split month) in the training set. "
   ]
  },
  {
   "cell_type": "code",
   "execution_count": 43,
   "id": "f20ab453",
   "metadata": {},
   "outputs": [],
   "source": [
    "def train_test_split(df: pd.DataFrame, df_accounts: pd.DataFrame):\n",
    "    \"\"\" Splits Accounts/Transations Time Series Data into train and test sets. \"\"\"\n",
    "    # Sort the dataframe by account id and transactions date\n",
    "    df = df.sort_values(['account_id', 'year', 'month'], ascending = (True, True, True))\n",
    "    appended_train_data = []\n",
    "    appended_test_data = []\n",
    "    account_dict = df_accounts.set_index('id').T.to_dict('Dict')\n",
    "    for key in account_dict.keys():\n",
    "        df_account = df[df['account_id']==key]\n",
    "        try:\n",
    "            split_month, split_year = df_account.iloc[-2].month, df_account.iloc[-2].year\n",
    "            train_set = df_account.loc[~((df.year==split_year) & (df.month>split_month))]\n",
    "            test_set = df_account.loc[((df.year==split_year) & (df.month>split_month))]\n",
    "            appended_train_data.append(train_set)\n",
    "            appended_test_data.append(test_set)\n",
    "        except:\n",
    "            pass\n",
    "    return appended_train_data, appended_test_data\n"
   ]
  },
  {
   "cell_type": "code",
   "execution_count": 44,
   "id": "e40d2705",
   "metadata": {},
   "outputs": [],
   "source": [
    "train, test = train_test_split(data_monthly, accounts)"
   ]
  },
  {
   "cell_type": "markdown",
   "id": "b6fb1a79",
   "metadata": {},
   "source": [
    "Now, we get our data_train and data_test sets. "
   ]
  },
  {
   "cell_type": "code",
   "execution_count": 45,
   "id": "59f9d1be",
   "metadata": {},
   "outputs": [],
   "source": [
    "data_train = pd.concat(train)\n",
    "data_test = pd.concat(test)"
   ]
  },
  {
   "cell_type": "code",
   "execution_count": 46,
   "id": "223f17b3",
   "metadata": {},
   "outputs": [],
   "source": [
    "data_monthly = data_monthly.drop([\"account_id\", \"ingoing\"] ,axis=1)\n",
    "data_train = data_train.drop([\"account_id\", \"ingoing\"] ,axis=1)\n",
    "data_test = data_test.drop([\"account_id\", \"ingoing\"] ,axis=1)"
   ]
  },
  {
   "cell_type": "code",
   "execution_count": 47,
   "id": "fa148b1d",
   "metadata": {},
   "outputs": [
    {
     "data": {
      "text/plain": [
       "\"\\nsplit_year = 2021\\nsplit_month = 5\\n\\ndata_monthly = data_monthly.sort_values(['account_id', 'year', 'month'], ascending = (True, True, True))\\ndata_train = data_monthly.loc[~((data_monthly.year==split_year) & (data_monthly.month>split_month))]\\ndata_test = data_monthly.loc[(data_monthly.year==split_year) & (data_monthly.month>split_month)]\\n\""
      ]
     },
     "execution_count": 47,
     "metadata": {},
     "output_type": "execute_result"
    }
   ],
   "source": [
    "\"\"\"\n",
    "split_year = 2021\n",
    "split_month = 5\n",
    "\n",
    "data_monthly = data_monthly.sort_values(['account_id', 'year', 'month'], ascending = (True, True, True))\n",
    "data_train = data_monthly.loc[~((data_monthly.year==split_year) & (data_monthly.month>split_month))]\n",
    "data_test = data_monthly.loc[(data_monthly.year==split_year) & (data_monthly.month>split_month)]\n",
    "\"\"\""
   ]
  },
  {
   "cell_type": "markdown",
   "id": "836969cf",
   "metadata": {},
   "source": [
    "# Detecting Outliers"
   ]
  },
  {
   "cell_type": "markdown",
   "id": "b0a31d40",
   "metadata": {},
   "source": [
    "In this part, we handle detecting and removing outliers from the training data. "
   ]
  },
  {
   "cell_type": "code",
   "execution_count": 48,
   "id": "703dfd2e",
   "metadata": {},
   "outputs": [],
   "source": [
    "data_monthly = data_train"
   ]
  },
  {
   "cell_type": "code",
   "execution_count": 49,
   "id": "94386218",
   "metadata": {},
   "outputs": [
    {
     "data": {
      "text/plain": [
       "(10409, 18)"
      ]
     },
     "execution_count": 49,
     "metadata": {},
     "output_type": "execute_result"
    }
   ],
   "source": [
    "data_monthly.shape"
   ]
  },
  {
   "cell_type": "code",
   "execution_count": 50,
   "id": "d00bbc18",
   "metadata": {},
   "outputs": [
    {
     "data": {
      "text/plain": [
       "<AxesSubplot:>"
      ]
     },
     "execution_count": 50,
     "metadata": {},
     "output_type": "execute_result"
    },
    {
     "data": {
      "image/png": "[encoded data removed]",
      "text/plain": [
       "<Figure size 432x288 with 1 Axes>"
      ]
     },
     "metadata": {
      "needs_background": "light"
     },
     "output_type": "display_data"
    }
   ],
   "source": [
    "data_monthly.outgoing.hist(bins=100)"
   ]
  },
  {
   "cell_type": "markdown",
   "id": "3d4c1849",
   "metadata": {},
   "source": [
    "When we plot the target variable, we notice that most of the data are centered between -100000 and 0, meaning if we would like to have a better understanding of the data, we need to discard the outliers. "
   ]
  },
  {
   "cell_type": "code",
   "execution_count": 51,
   "id": "b91c00f1",
   "metadata": {},
   "outputs": [
    {
     "name": "stdout",
     "output_type": "stream",
     "text": [
      "9367/10409 data points remain.\n",
      "1042/10409 data points are detected as outliers.\n"
     ]
    },
    {
     "data": {
      "text/plain": [
       "<AxesSubplot:>"
      ]
     },
     "execution_count": 51,
     "metadata": {},
     "output_type": "execute_result"
    },
    {
     "data": {
      "image/png": "[encoded data removed]",
      "text/plain": [
       "<Figure size 432x288 with 1 Axes>"
      ]
     },
     "metadata": {
      "needs_background": "light"
     },
     "output_type": "display_data"
    }
   ],
   "source": [
    "y = data_monthly.outgoing\n",
    "removed_outliers = y.between(y.quantile(.05), y.quantile(.95))\n",
    "\n",
    "print(str(y[removed_outliers].size) + \"/\" + str(y.size) + \" data points remain.\") \n",
    "print(str(y.size - y[removed_outliers].size) + \"/\" + str(y.size) + \" data points are detected as outliers.\")\n",
    "\n",
    "y[removed_outliers].hist(bins=100)"
   ]
  },
  {
   "cell_type": "markdown",
   "id": "7c026abc",
   "metadata": {},
   "source": [
    "Now, we can have a better understanding of the data by focusing on the more dense intervals. "
   ]
  },
  {
   "cell_type": "code",
   "execution_count": 52,
   "id": "81156aa7",
   "metadata": {},
   "outputs": [],
   "source": [
    "data_monthly = data_monthly[y.between(y.quantile(.05), y.quantile(.95))]"
   ]
  },
  {
   "cell_type": "code",
   "execution_count": 53,
   "id": "76b9c355",
   "metadata": {},
   "outputs": [],
   "source": [
    "#%matplotlib inline \n",
    "#data_monthly.hist(bins=50, figsize=(20,25))\n",
    "#plt.show()"
   ]
  },
  {
   "cell_type": "code",
   "execution_count": 54,
   "id": "67ec8c30",
   "metadata": {},
   "outputs": [
    {
     "data": {
      "text/plain": [
       "<AxesSubplot:xlabel='average_transactions_per_month', ylabel='outgoing'>"
      ]
     },
     "execution_count": 54,
     "metadata": {},
     "output_type": "execute_result"
    },
    {
     "data": {
      "image/png": "[encoded data removed]",
      "text/plain": [
       "<Figure size 432x288 with 1 Axes>"
      ]
     },
     "metadata": {
      "needs_background": "light"
     },
     "output_type": "display_data"
    }
   ],
   "source": [
    "data_monthly.plot(kind=\"scatter\", x=\"average_transactions_per_month\", y=\"outgoing\")"
   ]
  },
  {
   "cell_type": "code",
   "execution_count": 55,
   "id": "24e36c3d",
   "metadata": {},
   "outputs": [
    {
     "data": {
      "text/plain": [
       "<AxesSubplot:xlabel='age', ylabel='outgoing'>"
      ]
     },
     "execution_count": 55,
     "metadata": {},
     "output_type": "execute_result"
    },
    {
     "data": {
      "image/png": "[encoded data removed]",
      "text/plain": [
       "<Figure size 432x288 with 1 Axes>"
      ]
     },
     "metadata": {
      "needs_background": "light"
     },
     "output_type": "display_data"
    }
   ],
   "source": [
    "data_monthly.plot(kind=\"scatter\", x=\"age\", y=\"outgoing\")"
   ]
  },
  {
   "cell_type": "markdown",
   "id": "f8aff8fa",
   "metadata": {},
   "source": [
    "# Computing correlations between target variable and features"
   ]
  },
  {
   "cell_type": "markdown",
   "id": "1d3fa8c3",
   "metadata": {},
   "source": [
    "We can start by looking at correlations between the predicted value and the features. "
   ]
  },
  {
   "cell_type": "code",
   "execution_count": 56,
   "id": "6342710d",
   "metadata": {},
   "outputs": [
    {
     "data": {
      "text/plain": [
       "outgoing                          1.000000\n",
       "outgoing_2                        0.389788\n",
       "outgoing_4                        0.368321\n",
       "outgoing_1                        0.361037\n",
       "outgoing_6                        0.342030\n",
       "outgoing_5                        0.292092\n",
       "outgoing_3                        0.282062\n",
       "age                               0.139394\n",
       "month                             0.002783\n",
       "initial_balance                  -0.008833\n",
       "year                             -0.147938\n",
       "ingoing_5                        -0.277236\n",
       "ingoing_3                        -0.301062\n",
       "ingoing_6                        -0.349539\n",
       "ingoing_4                        -0.354441\n",
       "ingoing_1                        -0.373177\n",
       "average_transactions_per_month   -0.378829\n",
       "ingoing_2                        -0.395659\n",
       "Name: outgoing, dtype: float64"
      ]
     },
     "execution_count": 56,
     "metadata": {},
     "output_type": "execute_result"
    }
   ],
   "source": [
    "# Computing the standard correlation coefficient (Pearson)\n",
    "corr_matrix = data_monthly.corr()\n",
    "corr_matrix[\"outgoing\"].sort_values(ascending=False)"
   ]
  },
  {
   "cell_type": "markdown",
   "id": "0a2daebe",
   "metadata": {},
   "source": [
    "We notice that outgoing variable is highly correlated with the previous outgoings and negatively correlated with the previous ingoings as well since the have a direct impact on the upcoming outgoings. Other variable such as the age of account and the average transactions per month showed a relatively high correlation score.  "
   ]
  },
  {
   "cell_type": "code",
   "execution_count": 57,
   "id": "379d9c51",
   "metadata": {},
   "outputs": [
    {
     "data": {
      "text/plain": [
       "'\\nimport seaborn as sns\\nf, ax = plt.subplots(figsize=(12, 9))\\nsns.heatmap(corr_matrix, vmax=.12, annot=True,square=True);\\n'"
      ]
     },
     "execution_count": 57,
     "metadata": {},
     "output_type": "execute_result"
    }
   ],
   "source": [
    "\"\"\"\n",
    "import seaborn as sns\n",
    "f, ax = plt.subplots(figsize=(12, 9))\n",
    "sns.heatmap(corr_matrix, vmax=.12, annot=True,square=True);\n",
    "\"\"\""
   ]
  },
  {
   "cell_type": "markdown",
   "id": "27952992",
   "metadata": {},
   "source": [
    "# Prepare the Data for Machine Learning Algorithms"
   ]
  },
  {
   "cell_type": "markdown",
   "id": "6938e443",
   "metadata": {},
   "source": [
    "In this part, we process the Variance Inflation Factor test only to drop highly correlated features since we will be using Descion Trees based models, we don't really need to check the multicollinearity hypothesis. "
   ]
  },
  {
   "cell_type": "code",
   "execution_count": 58,
   "id": "08d02b1e",
   "metadata": {},
   "outputs": [],
   "source": [
    "#import statsmodels.api as sm \n",
    "from statsmodels.stats.outliers_influence import variance_inflation_factor\n",
    "\n",
    "from sklearn.base import BaseEstimator, TransformerMixin\n",
    "from sklearn.impute import SimpleImputer\n",
    "\n",
    "class ReduceVIF(BaseEstimator, TransformerMixin):\n",
    "    def __init__(self, thresh=5.0, impute=True, impute_strategy='median'):\n",
    "        # From looking at documentation, values between 5 and 10 are \"okay\".\n",
    "        # Above 10 is too high and so should be removed.\n",
    "        self.thresh = thresh\n",
    "        \n",
    "        # The statsmodel function will fail with NaN values, as such we have to impute them.\n",
    "        # By default we impute using the median value.\n",
    "        # This imputation could be taken out and added as part of an sklearn Pipeline.\n",
    "        if impute:\n",
    "            self.imputer = SimpleImputer(strategy=impute_strategy)\n",
    "\n",
    "    def fit(self, X, y=None):\n",
    "        print('ReduceVIF fit')\n",
    "        if hasattr(self, 'imputer'):\n",
    "            self.imputer.fit(X)\n",
    "        return self\n",
    "\n",
    "    def transform(self, X, y=None):\n",
    "        print('ReduceVIF transform')\n",
    "        columns = X.columns.tolist()\n",
    "        if hasattr(self, 'imputer'):\n",
    "            X = pd.DataFrame(self.imputer.transform(X), columns=columns)\n",
    "        return ReduceVIF.calculate_vif(X, self.thresh)\n",
    "\n",
    "    @staticmethod\n",
    "    def calculate_vif(X, thresh=10.0):\n",
    "        # Taken from https://stats.stackexchange.com/a/253620/53565 and modified\n",
    "        dropped=True\n",
    "        while dropped:\n",
    "            variables = X.columns\n",
    "            dropped = False\n",
    "            #vif = [sm.stats.outliers_influence.variance_inflation_factor(X[variables].values, X.columns.get_loc(var)) for var in X.columns]\n",
    "            vif = [variance_inflation_factor(X[variables].values, X.columns.get_loc(var)) for var in X.columns]\n",
    "            \n",
    "            max_vif = max(vif)\n",
    "            if max_vif > 10:\n",
    "                maxloc = vif.index(max_vif)\n",
    "                print('Dropping:', X.columns[maxloc], 'with vif=',max_vif)\n",
    "                X = X.drop([X.columns.tolist()[maxloc]], axis=1)\n",
    "                dropped=True\n",
    "        return X         "
   ]
  },
  {
   "cell_type": "code",
   "execution_count": 59,
   "id": "1312fa67",
   "metadata": {},
   "outputs": [],
   "source": [
    "transformer = ReduceVIF()"
   ]
  },
  {
   "cell_type": "code",
   "execution_count": 60,
   "id": "a9a6fdb7",
   "metadata": {},
   "outputs": [],
   "source": [
    "X = data_monthly.drop([\"outgoing\"] ,axis=1)\n",
    "y = data_monthly[\"outgoing\"].copy()\n",
    "\n"
   ]
  },
  {
   "cell_type": "code",
   "execution_count": 61,
   "id": "329d8dc2",
   "metadata": {},
   "outputs": [
    {
     "name": "stdout",
     "output_type": "stream",
     "text": [
      "ReduceVIF fit\n",
      "ReduceVIF transform\n",
      "Dropping: year with vif= 11.51501295435539\n"
     ]
    }
   ],
   "source": [
    "predictors= transformer.fit_transform(X, y)"
   ]
  },
  {
   "cell_type": "raw",
   "id": "6445a2c5",
   "metadata": {},
   "source": [
    "The year feature has a high value of variance when used with other features such as the month and the age, hence it is dropped. We assume that the account's age as a feature is more relevant that the month of transactions.  "
   ]
  },
  {
   "cell_type": "markdown",
   "id": "eee2fc00",
   "metadata": {},
   "source": [
    "We end up with these features that represent most the data. "
   ]
  },
  {
   "cell_type": "code",
   "execution_count": 62,
   "id": "047f3f4e",
   "metadata": {},
   "outputs": [
    {
     "data": {
      "text/plain": [
       "Index(['month', 'average_transactions_per_month', 'age', 'initial_balance',\n",
       "       'outgoing_1', 'ingoing_1', 'outgoing_2', 'ingoing_2', 'outgoing_3',\n",
       "       'ingoing_3', 'outgoing_4', 'ingoing_4', 'outgoing_5', 'ingoing_5',\n",
       "       'outgoing_6', 'ingoing_6'],\n",
       "      dtype='object')"
      ]
     },
     "execution_count": 62,
     "metadata": {},
     "output_type": "execute_result"
    }
   ],
   "source": [
    "predictors.columns"
   ]
  },
  {
   "cell_type": "markdown",
   "id": "87eab019",
   "metadata": {},
   "source": [
    "# Select and train a model"
   ]
  },
  {
   "cell_type": "code",
   "execution_count": 63,
   "id": "de2410b5",
   "metadata": {},
   "outputs": [],
   "source": [
    "label=\"outgoing\"\n",
    "numerical_features=[\n",
    "    'month',\n",
    "    'average_transactions_per_month',\n",
    "    'age',\n",
    "    'initial_balance',\n",
    "    'outgoing_1',\n",
    "    'ingoing_1',\n",
    "    'outgoing_2',\n",
    "    'ingoing_2',\n",
    "    'outgoing_3',\n",
    "    'ingoing_3',\n",
    "    'outgoing_4',\n",
    "    'ingoing_4',\n",
    "    'outgoing_5',\n",
    "    'ingoing_5',\n",
    "    'outgoing_6',\n",
    "    'ingoing_6'\n",
    "]"
   ]
  },
  {
   "cell_type": "code",
   "execution_count": 64,
   "id": "988d8ca0",
   "metadata": {},
   "outputs": [
    {
     "data": {
      "text/plain": [
       "(9367, 18)"
      ]
     },
     "execution_count": 64,
     "metadata": {},
     "output_type": "execute_result"
    }
   ],
   "source": [
    "data_monthly.shape"
   ]
  },
  {
   "cell_type": "code",
   "execution_count": 65,
   "id": "bb2ef3b3",
   "metadata": {},
   "outputs": [],
   "source": [
    "X_train = data_monthly[numerical_features]\n",
    "y_train = data_monthly[label]\n",
    "\n",
    "X_test = data_test[numerical_features]\n",
    "y_test = data_test[label]"
   ]
  },
  {
   "cell_type": "code",
   "execution_count": 66,
   "id": "550c49bb",
   "metadata": {},
   "outputs": [
    {
     "name": "stdout",
     "output_type": "stream",
     "text": [
      "Starting training...\n",
      "[LightGBM] [Warning] Auto-choosing row-wise multi-threading, the overhead of testing was 0.000580 seconds.\n",
      "You can set `force_row_wise=true` to remove the overhead.\n",
      "And if memory is not enough, you can set `force_col_wise=true`.\n",
      "[1]\tvalid_0's l2: 1.83672e+08\tvalid_0's mape: 57.9561\tvalid_0's l1: 4856.23\n",
      "Training until validation scores don't improve for 5 rounds\n",
      "[2]\tvalid_0's l2: 1.8208e+08\tvalid_0's mape: 56.6572\tvalid_0's l1: 4777.12\n",
      "[3]\tvalid_0's l2: 1.80475e+08\tvalid_0's mape: 55.5549\tvalid_0's l1: 4701.8\n",
      "[4]\tvalid_0's l2: 1.78954e+08\tvalid_0's mape: 54.4587\tvalid_0's l1: 4626.87\n",
      "[5]\tvalid_0's l2: 1.77554e+08\tvalid_0's mape: 53.1057\tvalid_0's l1: 4552.85\n",
      "[6]\tvalid_0's l2: 1.76297e+08\tvalid_0's mape: 51.9902\tvalid_0's l1: 4485.88\n",
      "[7]\tvalid_0's l2: 1.75153e+08\tvalid_0's mape: 50.846\tvalid_0's l1: 4425.31\n",
      "[8]\tvalid_0's l2: 1.73934e+08\tvalid_0's mape: 49.7087\tvalid_0's l1: 4366.38\n",
      "[9]\tvalid_0's l2: 1.72795e+08\tvalid_0's mape: 48.5052\tvalid_0's l1: 4307.97\n",
      "[10]\tvalid_0's l2: 1.71774e+08\tvalid_0's mape: 47.4647\tvalid_0's l1: 4252.85\n",
      "[11]\tvalid_0's l2: 1.70845e+08\tvalid_0's mape: 46.4534\tvalid_0's l1: 4199.83\n",
      "[12]\tvalid_0's l2: 1.69995e+08\tvalid_0's mape: 45.5779\tvalid_0's l1: 4152.39\n",
      "[13]\tvalid_0's l2: 1.69135e+08\tvalid_0's mape: 44.7786\tvalid_0's l1: 4106.18\n",
      "[14]\tvalid_0's l2: 1.68393e+08\tvalid_0's mape: 44.2136\tvalid_0's l1: 4063.55\n",
      "[15]\tvalid_0's l2: 1.67635e+08\tvalid_0's mape: 43.5827\tvalid_0's l1: 4022.81\n",
      "[16]\tvalid_0's l2: 1.6694e+08\tvalid_0's mape: 42.749\tvalid_0's l1: 3983.29\n",
      "[17]\tvalid_0's l2: 1.66336e+08\tvalid_0's mape: 42.1614\tvalid_0's l1: 3949.79\n",
      "[18]\tvalid_0's l2: 1.65698e+08\tvalid_0's mape: 41.6572\tvalid_0's l1: 3916.39\n",
      "[19]\tvalid_0's l2: 1.65168e+08\tvalid_0's mape: 40.9741\tvalid_0's l1: 3884.26\n",
      "[20]\tvalid_0's l2: 1.6462e+08\tvalid_0's mape: 40.3752\tvalid_0's l1: 3849.4\n",
      "[21]\tvalid_0's l2: 1.64284e+08\tvalid_0's mape: 39.7671\tvalid_0's l1: 3823.11\n",
      "[22]\tvalid_0's l2: 1.63775e+08\tvalid_0's mape: 39.3849\tvalid_0's l1: 3795.2\n",
      "[23]\tvalid_0's l2: 1.63392e+08\tvalid_0's mape: 38.9111\tvalid_0's l1: 3772.74\n",
      "[24]\tvalid_0's l2: 1.62877e+08\tvalid_0's mape: 38.3589\tvalid_0's l1: 3748.84\n",
      "[25]\tvalid_0's l2: 1.62436e+08\tvalid_0's mape: 37.9274\tvalid_0's l1: 3726.9\n",
      "[26]\tvalid_0's l2: 1.62012e+08\tvalid_0's mape: 37.5369\tvalid_0's l1: 3707.32\n",
      "[27]\tvalid_0's l2: 1.61626e+08\tvalid_0's mape: 37.081\tvalid_0's l1: 3687.08\n",
      "[28]\tvalid_0's l2: 1.61313e+08\tvalid_0's mape: 36.6401\tvalid_0's l1: 3669.8\n",
      "[29]\tvalid_0's l2: 1.61002e+08\tvalid_0's mape: 36.2286\tvalid_0's l1: 3649.79\n",
      "[30]\tvalid_0's l2: 1.60641e+08\tvalid_0's mape: 35.934\tvalid_0's l1: 3632.72\n",
      "[31]\tvalid_0's l2: 1.6035e+08\tvalid_0's mape: 35.4753\tvalid_0's l1: 3613.65\n",
      "[32]\tvalid_0's l2: 1.60119e+08\tvalid_0's mape: 35.1605\tvalid_0's l1: 3598.76\n",
      "[33]\tvalid_0's l2: 1.59912e+08\tvalid_0's mape: 34.7921\tvalid_0's l1: 3582.02\n",
      "[34]\tvalid_0's l2: 1.59658e+08\tvalid_0's mape: 34.4758\tvalid_0's l1: 3566.32\n",
      "[35]\tvalid_0's l2: 1.5935e+08\tvalid_0's mape: 34.1002\tvalid_0's l1: 3549.78\n",
      "[36]\tvalid_0's l2: 1.59122e+08\tvalid_0's mape: 33.7376\tvalid_0's l1: 3534.94\n",
      "[37]\tvalid_0's l2: 1.58968e+08\tvalid_0's mape: 33.4916\tvalid_0's l1: 3524.39\n",
      "[38]\tvalid_0's l2: 1.5877e+08\tvalid_0's mape: 33.3477\tvalid_0's l1: 3512.77\n",
      "[39]\tvalid_0's l2: 1.58589e+08\tvalid_0's mape: 33.0894\tvalid_0's l1: 3505.2\n",
      "[40]\tvalid_0's l2: 1.58511e+08\tvalid_0's mape: 32.7459\tvalid_0's l1: 3494.8\n",
      "[41]\tvalid_0's l2: 1.58403e+08\tvalid_0's mape: 32.4522\tvalid_0's l1: 3484.33\n",
      "[42]\tvalid_0's l2: 1.58171e+08\tvalid_0's mape: 32.0427\tvalid_0's l1: 3471.58\n",
      "[43]\tvalid_0's l2: 1.58157e+08\tvalid_0's mape: 31.836\tvalid_0's l1: 3464.21\n",
      "[44]\tvalid_0's l2: 1.57938e+08\tvalid_0's mape: 31.6254\tvalid_0's l1: 3454.1\n",
      "[45]\tvalid_0's l2: 1.57894e+08\tvalid_0's mape: 31.4008\tvalid_0's l1: 3445.52\n",
      "[46]\tvalid_0's l2: 1.5779e+08\tvalid_0's mape: 31.1923\tvalid_0's l1: 3438.1\n",
      "[47]\tvalid_0's l2: 1.57642e+08\tvalid_0's mape: 31.0102\tvalid_0's l1: 3430.67\n",
      "[48]\tvalid_0's l2: 1.57518e+08\tvalid_0's mape: 30.7475\tvalid_0's l1: 3423.64\n",
      "[49]\tvalid_0's l2: 1.57341e+08\tvalid_0's mape: 30.5139\tvalid_0's l1: 3414.56\n",
      "[50]\tvalid_0's l2: 1.57127e+08\tvalid_0's mape: 30.4396\tvalid_0's l1: 3404.86\n",
      "[51]\tvalid_0's l2: 1.57036e+08\tvalid_0's mape: 30.3131\tvalid_0's l1: 3399.2\n",
      "[52]\tvalid_0's l2: 1.56859e+08\tvalid_0's mape: 30.1596\tvalid_0's l1: 3392.13\n",
      "[53]\tvalid_0's l2: 1.56817e+08\tvalid_0's mape: 29.9389\tvalid_0's l1: 3383.53\n",
      "[54]\tvalid_0's l2: 1.56665e+08\tvalid_0's mape: 29.8041\tvalid_0's l1: 3378.95\n",
      "[55]\tvalid_0's l2: 1.56555e+08\tvalid_0's mape: 29.6336\tvalid_0's l1: 3371.42\n",
      "[56]\tvalid_0's l2: 1.5651e+08\tvalid_0's mape: 29.6144\tvalid_0's l1: 3367.08\n",
      "[57]\tvalid_0's l2: 1.56446e+08\tvalid_0's mape: 29.5495\tvalid_0's l1: 3361\n",
      "[58]\tvalid_0's l2: 1.56321e+08\tvalid_0's mape: 29.3991\tvalid_0's l1: 3351.47\n",
      "[59]\tvalid_0's l2: 1.56326e+08\tvalid_0's mape: 29.3243\tvalid_0's l1: 3347.88\n",
      "[60]\tvalid_0's l2: 1.56186e+08\tvalid_0's mape: 29.139\tvalid_0's l1: 3341.13\n",
      "[61]\tvalid_0's l2: 1.56129e+08\tvalid_0's mape: 28.9272\tvalid_0's l1: 3334.03\n",
      "[62]\tvalid_0's l2: 1.5604e+08\tvalid_0's mape: 28.743\tvalid_0's l1: 3326.31\n",
      "[63]\tvalid_0's l2: 1.55977e+08\tvalid_0's mape: 28.7099\tvalid_0's l1: 3321.96\n",
      "[64]\tvalid_0's l2: 1.55928e+08\tvalid_0's mape: 28.5155\tvalid_0's l1: 3316.38\n",
      "[65]\tvalid_0's l2: 1.55901e+08\tvalid_0's mape: 28.362\tvalid_0's l1: 3311.82\n"
     ]
    },
    {
     "name": "stderr",
     "output_type": "stream",
     "text": [
      "C:\\Users\\Recommerce\\anaconda3\\lib\\site-packages\\lightgbm\\engine.py:177: UserWarning: Found `n_estimators` in params. Will use it instead of argument\n",
      "  _log_warning(f\"Found `{alias}` in params. Will use it instead of argument\")\n",
      "C:\\Users\\Recommerce\\anaconda3\\lib\\site-packages\\lightgbm\\engine.py:181: UserWarning: 'early_stopping_rounds' argument is deprecated and will be removed in a future release of LightGBM. Pass 'early_stopping()' callback via 'callbacks' argument instead.\n",
      "  _log_warning(\"'early_stopping_rounds' argument is deprecated and will be removed in a future release of LightGBM. \"\n"
     ]
    },
    {
     "name": "stdout",
     "output_type": "stream",
     "text": [
      "[66]\tvalid_0's l2: 1.55802e+08\tvalid_0's mape: 28.2927\tvalid_0's l1: 3308.27\n",
      "[67]\tvalid_0's l2: 1.55622e+08\tvalid_0's mape: 28.266\tvalid_0's l1: 3304.72\n",
      "[68]\tvalid_0's l2: 1.55647e+08\tvalid_0's mape: 28.0794\tvalid_0's l1: 3302.52\n",
      "[69]\tvalid_0's l2: 1.55624e+08\tvalid_0's mape: 27.9334\tvalid_0's l1: 3299.08\n",
      "[70]\tvalid_0's l2: 1.55533e+08\tvalid_0's mape: 27.8415\tvalid_0's l1: 3293.25\n",
      "[71]\tvalid_0's l2: 1.55459e+08\tvalid_0's mape: 27.6714\tvalid_0's l1: 3289.67\n",
      "[72]\tvalid_0's l2: 1.55344e+08\tvalid_0's mape: 27.5101\tvalid_0's l1: 3285.59\n",
      "[73]\tvalid_0's l2: 1.55303e+08\tvalid_0's mape: 27.4159\tvalid_0's l1: 3283.08\n",
      "[74]\tvalid_0's l2: 1.5523e+08\tvalid_0's mape: 27.3224\tvalid_0's l1: 3280.98\n",
      "[75]\tvalid_0's l2: 1.55152e+08\tvalid_0's mape: 27.2151\tvalid_0's l1: 3277.05\n",
      "[76]\tvalid_0's l2: 1.55029e+08\tvalid_0's mape: 27.0286\tvalid_0's l1: 3274.08\n",
      "[77]\tvalid_0's l2: 1.54998e+08\tvalid_0's mape: 26.8696\tvalid_0's l1: 3270.5\n",
      "[78]\tvalid_0's l2: 1.5495e+08\tvalid_0's mape: 26.853\tvalid_0's l1: 3269.88\n",
      "[79]\tvalid_0's l2: 1.54846e+08\tvalid_0's mape: 26.7536\tvalid_0's l1: 3267.2\n",
      "[80]\tvalid_0's l2: 1.5481e+08\tvalid_0's mape: 26.5999\tvalid_0's l1: 3263.24\n",
      "[81]\tvalid_0's l2: 1.54842e+08\tvalid_0's mape: 26.6069\tvalid_0's l1: 3261.39\n",
      "[82]\tvalid_0's l2: 1.5481e+08\tvalid_0's mape: 26.5218\tvalid_0's l1: 3258.03\n",
      "[83]\tvalid_0's l2: 1.54733e+08\tvalid_0's mape: 26.5581\tvalid_0's l1: 3255.91\n",
      "[84]\tvalid_0's l2: 1.54718e+08\tvalid_0's mape: 26.4454\tvalid_0's l1: 3251.92\n",
      "[85]\tvalid_0's l2: 1.54735e+08\tvalid_0's mape: 26.3752\tvalid_0's l1: 3250.33\n",
      "[86]\tvalid_0's l2: 1.54663e+08\tvalid_0's mape: 26.3674\tvalid_0's l1: 3249.27\n",
      "[87]\tvalid_0's l2: 1.54587e+08\tvalid_0's mape: 26.3339\tvalid_0's l1: 3247.4\n",
      "[88]\tvalid_0's l2: 1.54591e+08\tvalid_0's mape: 26.1817\tvalid_0's l1: 3244.98\n",
      "[89]\tvalid_0's l2: 1.54584e+08\tvalid_0's mape: 26.22\tvalid_0's l1: 3243.95\n",
      "[90]\tvalid_0's l2: 1.54568e+08\tvalid_0's mape: 26.1798\tvalid_0's l1: 3240.36\n",
      "[91]\tvalid_0's l2: 1.54549e+08\tvalid_0's mape: 26.158\tvalid_0's l1: 3239.65\n",
      "[92]\tvalid_0's l2: 1.54556e+08\tvalid_0's mape: 26.1087\tvalid_0's l1: 3238.07\n",
      "[93]\tvalid_0's l2: 1.54568e+08\tvalid_0's mape: 26.0269\tvalid_0's l1: 3235.8\n",
      "[94]\tvalid_0's l2: 1.54553e+08\tvalid_0's mape: 25.9547\tvalid_0's l1: 3232.62\n",
      "[95]\tvalid_0's l2: 1.54596e+08\tvalid_0's mape: 26.0574\tvalid_0's l1: 3232.08\n",
      "[96]\tvalid_0's l2: 1.54577e+08\tvalid_0's mape: 26.0184\tvalid_0's l1: 3229.8\n",
      "Early stopping, best iteration is:\n",
      "[91]\tvalid_0's l2: 1.54549e+08\tvalid_0's mape: 26.158\tvalid_0's l1: 3239.65\n"
     ]
    }
   ],
   "source": [
    "lgb_train = lgb.Dataset(X_train, y_train)\n",
    "lgb_eval = lgb.Dataset(X_test, y_test, reference=lgb_train)\n",
    "\n",
    "# specify the configurations as a dict\n",
    "params = {\n",
    "    'boosting_type': 'gbdt',\n",
    "    'n_estimators':2000,\n",
    "    'objective': 'regression',\n",
    "    'metric': {'l2', 'l1', 'mape'},\n",
    "    'num_leaves': 50,\n",
    "    'learning_rate': 0.05,\n",
    "    'feature_fraction': 1,\n",
    "    'bagging_fraction': 1,\n",
    "    'bagging_freq': 5,\n",
    "    'verbose': 0\n",
    "}\n",
    "\n",
    "print('Starting training...')\n",
    "# train\n",
    "gbm = lgb.train(params,\n",
    "                lgb_train,\n",
    "                num_boost_round=20,\n",
    "                valid_sets=lgb_eval,\n",
    "                early_stopping_rounds=5)"
   ]
  },
  {
   "cell_type": "code",
   "execution_count": 67,
   "id": "67a4194f",
   "metadata": {},
   "outputs": [
    {
     "data": {
      "text/plain": [
       "-3989.102868581195"
      ]
     },
     "execution_count": 67,
     "metadata": {},
     "output_type": "execute_result"
    }
   ],
   "source": [
    "data_monthly.outgoing.mean()"
   ]
  },
  {
   "cell_type": "code",
   "execution_count": 68,
   "id": "cc97c898",
   "metadata": {},
   "outputs": [
    {
     "data": {
      "text/plain": [
       "<bound method Booster.eval of <lightgbm.basic.Booster object at 0x0000019957102730>>"
      ]
     },
     "execution_count": 68,
     "metadata": {},
     "output_type": "execute_result"
    }
   ],
   "source": [
    "gbm.eval"
   ]
  },
  {
   "cell_type": "code",
   "execution_count": 69,
   "id": "73c3ce00",
   "metadata": {},
   "outputs": [
    {
     "data": {
      "text/plain": [
       "month                                6.00\n",
       "average_transactions_per_month      60.00\n",
       "age                                  8.00\n",
       "initial_balance                  -3835.58\n",
       "outgoing_1                       -3322.02\n",
       "ingoing_1                         4892.80\n",
       "outgoing_2                       -2183.20\n",
       "ingoing_2                         2610.50\n",
       "outgoing_3                        -396.70\n",
       "ingoing_3                         1485.00\n",
       "outgoing_4                        -100.00\n",
       "ingoing_4                          100.00\n",
       "outgoing_5                       -1482.46\n",
       "ingoing_5                         2179.00\n",
       "outgoing_6                            NaN\n",
       "ingoing_6                             NaN\n",
       "Name: 5, dtype: float64"
      ]
     },
     "execution_count": 69,
     "metadata": {},
     "output_type": "execute_result"
    }
   ],
   "source": [
    "X_test.iloc[0]"
   ]
  },
  {
   "cell_type": "code",
   "execution_count": 70,
   "id": "2881a443",
   "metadata": {},
   "outputs": [
    {
     "name": "stderr",
     "output_type": "stream",
     "text": [
      "C:\\Users\\Recommerce\\anaconda3\\lib\\site-packages\\lightgbm\\basic.py:859: UserWarning: Converting data to scipy sparse matrix.\n",
      "  _log_warning('Converting data to scipy sparse matrix.')\n"
     ]
    },
    {
     "data": {
      "text/plain": [
       "array([-3886.8546961])"
      ]
     },
     "execution_count": 70,
     "metadata": {},
     "output_type": "execute_result"
    }
   ],
   "source": [
    "gbm.predict(X_test.iloc[0])"
   ]
  },
  {
   "cell_type": "code",
   "execution_count": 71,
   "id": "a02b13ea",
   "metadata": {},
   "outputs": [],
   "source": [
    "import xgboost as xg\n",
    "from sklearn.metrics import mean_squared_error \n",
    "from sklearn.metrics import mean_absolute_percentage_error "
   ]
  },
  {
   "cell_type": "code",
   "execution_count": 72,
   "id": "c2b7cff6",
   "metadata": {},
   "outputs": [
    {
     "name": "stdout",
     "output_type": "stream",
     "text": [
      "[00:40:31] WARNING: C:/Users/Administrator/workspace/xgboost-win64_release_1.5.0/src/objective/regression_obj.cu:188: reg:linear is now deprecated in favor of reg:squarederror.\n",
      "RMSE :  12654.446455\n",
      "MAPE :  15.975232\n"
     ]
    }
   ],
   "source": [
    "# Instantiation\n",
    "xgb_r = xg.XGBRegressor(objective ='reg:linear',\n",
    "                  n_estimators = 10, seed = 123)\n",
    "  \n",
    "# Fitting the model\n",
    "xgb_r.fit(X_train, y_train)\n",
    "  \n",
    "# Predict the model\n",
    "pred = xgb_r.predict(X_test)\n",
    "  \n",
    "# RMSE Computation\n",
    "rmse = np.sqrt(mean_squared_error(y_test, pred))\n",
    "print(\"RMSE : % f\" %(rmse))\n",
    "\n",
    "  \n",
    "# MAPE Computation\n",
    "mape = np.sqrt(mean_absolute_percentage_error(y_test, pred))\n",
    "print(\"MAPE : % f\" %(mape))"
   ]
  },
  {
   "cell_type": "markdown",
   "id": "51b3e0d7",
   "metadata": {},
   "source": [
    "# Create a Pickle and save the gbm model"
   ]
  },
  {
   "cell_type": "code",
   "execution_count": 73,
   "id": "b4657278",
   "metadata": {},
   "outputs": [],
   "source": [
    "pickle_out = open(\"lightgbm.pkl\",\"wb\")\n",
    "pickle.dump(gbm, pickle_out)\n",
    "pickle_out.close()"
   ]
  },
  {
   "cell_type": "code",
   "execution_count": 74,
   "id": "b991b5a1",
   "metadata": {},
   "outputs": [
    {
     "data": {
      "text/plain": [
       "'\\nfrom sklearn.linear_model import LinearRegression\\n\\nlin_reg = LinearRegression()\\nlin_reg.fit(X_train, y_train)\\nlin_reg.coef_\\n\\nfrom sklearn.metrics import mean_squared_error\\noutgoing_predictions = lin_reg.predict(X_train)\\nlin_mse = mean_squared_error(y_train, outgoing_predictions)\\nlin_rmse = np.sqrt(lin_mse)\\nlin_rmse \\n\\nlin_reg.score(X_train, y_train)\\n\\n\\n'"
      ]
     },
     "execution_count": 74,
     "metadata": {},
     "output_type": "execute_result"
    }
   ],
   "source": [
    "\"\"\"\n",
    "from sklearn.linear_model import LinearRegression\n",
    "\n",
    "lin_reg = LinearRegression()\n",
    "lin_reg.fit(X_train, y_train)\n",
    "lin_reg.coef_\n",
    "\n",
    "from sklearn.metrics import mean_squared_error\n",
    "outgoing_predictions = lin_reg.predict(X_train)\n",
    "lin_mse = mean_squared_error(y_train, outgoing_predictions)\n",
    "lin_rmse = np.sqrt(lin_mse)\n",
    "lin_rmse \n",
    "\n",
    "lin_reg.score(X_train, y_train)\n",
    "\n",
    "\n",
    "\"\"\""
   ]
  },
  {
   "cell_type": "code",
   "execution_count": 75,
   "id": "a8871930",
   "metadata": {},
   "outputs": [],
   "source": [
    "# Feature Scaling"
   ]
  },
  {
   "cell_type": "code",
   "execution_count": 76,
   "id": "ff33bab6",
   "metadata": {},
   "outputs": [],
   "source": [
    "# As with all transformations, it is important to fit the scalers to training data only, not the full dataset. "
   ]
  },
  {
   "cell_type": "code",
   "execution_count": 77,
   "id": "85e2eb43",
   "metadata": {},
   "outputs": [
    {
     "data": {
      "text/plain": [
       "'\\nfrom sklearn.preprocessing import MinMaxScaler\\nscaler = MinMaxScaler()\\n#train_set_scaled=scaler.fit_transform(train_set)\\n#train_set_scaled= pd.DataFrame(train_set_scaled)\\nX_train_scaled = scaler.fit_transform(X_train)\\nX_test_scaled = scaler.fit_transform(X_test)\\n'"
      ]
     },
     "execution_count": 77,
     "metadata": {},
     "output_type": "execute_result"
    }
   ],
   "source": [
    "\"\"\"\n",
    "from sklearn.preprocessing import MinMaxScaler\n",
    "scaler = MinMaxScaler()\n",
    "#train_set_scaled=scaler.fit_transform(train_set)\n",
    "#train_set_scaled= pd.DataFrame(train_set_scaled)\n",
    "X_train_scaled = scaler.fit_transform(X_train)\n",
    "X_test_scaled = scaler.fit_transform(X_test)\n",
    "\"\"\""
   ]
  },
  {
   "cell_type": "code",
   "execution_count": 78,
   "id": "0538d426",
   "metadata": {},
   "outputs": [
    {
     "data": {
      "text/plain": [
       "'\\nfrom sklearn.ensemble import GradientBoostingRegressor\\nmodel = GradientBoostingRegressor(random_state=0).fit(X_train, y_train)\\nprint(\"train score:\", model.score(X_train, y_train))\\n\\n\\nprint(\"test score:\", model.score(X_test, y_test))\\n'"
      ]
     },
     "execution_count": 78,
     "metadata": {},
     "output_type": "execute_result"
    }
   ],
   "source": [
    "\"\"\"\n",
    "from sklearn.ensemble import GradientBoostingRegressor\n",
    "model = GradientBoostingRegressor(random_state=0).fit(X_train, y_train)\n",
    "print(\"train score:\", model.score(X_train, y_train))\n",
    "\n",
    "\n",
    "print(\"test score:\", model.score(X_test, y_test))\n",
    "\"\"\""
   ]
  },
  {
   "cell_type": "code",
   "execution_count": 79,
   "id": "596c7968",
   "metadata": {},
   "outputs": [
    {
     "data": {
      "text/plain": [
       "'\\nfrom sklearn.ensemble import RandomForestRegressor\\n\\nmodel = RandomForestRegressor(random_state=0).fit(X_train, y_train)\\nprint(\"train score:\", model.score(X_train, y_train))\\n\\nprint(\"test score:\", model.score(X_test, y_test))\\n'"
      ]
     },
     "execution_count": 79,
     "metadata": {},
     "output_type": "execute_result"
    }
   ],
   "source": [
    "\"\"\"\n",
    "from sklearn.ensemble import RandomForestRegressor\n",
    "\n",
    "model = RandomForestRegressor(random_state=0).fit(X_train, y_train)\n",
    "print(\"train score:\", model.score(X_train, y_train))\n",
    "\n",
    "print(\"test score:\", model.score(X_test, y_test))\n",
    "\"\"\""
   ]
  }
 ],
 "metadata": {
  "kernelspec": {
   "display_name": "Python 3",
   "language": "python",
   "name": "python3"
  },
  "language_info": {
   "codemirror_mode": {
    "name": "ipython",
    "version": 3
   },
   "file_extension": ".py",
   "mimetype": "text/x-python",
   "name": "python",
   "nbconvert_exporter": "python",
   "pygments_lexer": "ipython3",
   "version": "3.8.8"
  }
 },
 "nbformat": 4,
 "nbformat_minor": 5
}
